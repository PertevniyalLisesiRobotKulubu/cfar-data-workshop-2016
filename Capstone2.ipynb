{
 "cells": [
  {
   "cell_type": "markdown",
   "metadata": {},
   "source": [
    "# Capstone: Mapping the Antibody Response\n",
    "\n",
    "**Note**: This capstone is COMPLEX and is just here as a motivating example of using Python to automate report generation for lage-scale laboratory daat. You are not expected to know enough Python at this stage to perform this analysis.\n",
    "\n",
    "For the final exercise, we will visualize the affinity of the antibody response to different regions of the HIV envelope protein. The data come from experiments in which animals are given an HIV vaccine, and pre- and post-vaccination samples are tested on an HIV peptide array containing thousands of HIV envelope sequences. Each array has triplicates of each sequence. \n",
    "\n",
    "We need to do the following for each animal:\n",
    "\n",
    "- read in pre-vaccination peptide array data a text file\n",
    "- read in post-vaccination peptide array data a text file\n",
    "- find the change in fluorescence reading from pre- to post-vaccination sample\n",
    "- find the median value across the 3 replicates per sequence \n",
    "- extract the clade data for each peptide\n",
    "- read in a metadata file showing the mapping of peptide sequence to a region on the HIV envelope\n",
    "- find the region each sequence is mapped to\n",
    "\n",
    "Then, the investigator has asked us to plot the following heatmap where each cell contains the sum of values for sequences belonging to that clade, normalized by the number of such sequences in each clade.\n",
    "\n",
    "![heatmap](figs/heatmap.png)\n",
    "\n",
    "These notes walk you through the steps taken to generate such heatmaps automatically, starting from the raw text data and metadata files. The skill level required goes beyond what was covered in this two-day workshop, although much of it should seem familiar. Hopefully, this will provide a real-world example how continuing to learn to code will pay off in the long run.\n",
    "\n",
    "The data comes from the paper [Schiffner et al., J Virol. 2013 Sep;87(18):10163-72](http://www.ncbi.nlm.nih.gov/pubmed/23843636)."
   ]
  },
  {
   "cell_type": "code",
   "execution_count": 1,
   "metadata": {
    "collapsed": true
   },
   "outputs": [],
   "source": [
    "import os\n",
    "import glob\n",
    "import numpy as np\n",
    "import pandas as pd\n",
    "from pandas import DataFrame, Series\n",
    "import matplotlib.pyplot as plt\n",
    "import seaborn as sns\n",
    "%matplotlib inline"
   ]
  },
  {
   "cell_type": "markdown",
   "metadata": {},
   "source": [
    "## Preview\n",
    "\n",
    "Here is some code that can generate the above figure from raw data, but it is likely to be incomprehensible. Later we will unpack the code into the individual steps.\n",
    "\n",
    "```python\n",
    "\n",
    "def baseline(x):\n",
    "    return max(200, x.median() + 3*x.std(ddof=1))\n",
    "\n",
    "def process_meta(path, clade_cols):\n",
    "    \"\"\"Collect steps to transform metadata here.\"\"\"\n",
    "\n",
    "    meta = pd.read_table(meta_path, na_values='-')\n",
    "    clades = sorted(set(meta[clade_cols].values.ravel()) - set([np.nan]))\n",
    "    for clade in clades:\n",
    "        meta[clade] = (meta[clade_cols] == clade).any(axis=1)\n",
    "    meta = meta[['PeptideSeq', 'Region'] + clades]\n",
    "    meta = pd.melt(meta, ['PeptideSeq', 'Region'])\n",
    "    meta = meta[meta.value == True].drop('value', axis=1)\n",
    "    meta.columns = ['seq', 'region', 'clade']\n",
    "    return meta\n",
    "\n",
    "def process_baseline(path):\n",
    "    \"\"\"Steps to calculate baseline values.\"\"\"\n",
    "\n",
    "    pre = pd.read_table(path, skiprows=34)\n",
    "    pre = pre[['ID', 'Block', 'F635 Median - B635']]\n",
    "    pre.columns = ['seq', 'block', 'pre']\n",
    "    d = pre.groupby('seq').agg({'pre': baseline})\n",
    "    d = d.reset_index()\n",
    "    return d\n",
    "\n",
    "def process_vaccinated(path):\n",
    "    \"\"\"Steps to calculate vaccinated median values.\"\"\"\n",
    "\n",
    "    post = pd.read_table(path, skiprows=34)\n",
    "    post = post[['ID', 'Block', 'F635 Median - B635']]\n",
    "    post.columns = ['seq', 'block', 'post']\n",
    "    d = post.groupby('seq').agg({'post': np.median})\n",
    "    d = d.reset_index()\n",
    "    return d\n",
    "\n",
    "def process_pair(pre_path, post_path):\n",
    "    \"\"\"Process a pair of pre- and post-files.\"\"\"\n",
    "\n",
    "    s1 = os.path.split(pre_path)[-1][:3]\n",
    "    s2 = os.path.split(pre_path)[-1][:3]\n",
    "    assert(s1 == s2)\n",
    "\n",
    "    pre = process_baseline(pre_path)\n",
    "    post = process_vaccinated(post_path)\n",
    "    df = pd.merge(pre, post, on=['seq'])\n",
    "    df['signal'] = df['post'] - df['pre']\n",
    "    df['signal'] = df['signal'].clip_lower(1)\n",
    "    df['subject'] = s1\n",
    "    df = df.drop(['pre', 'post'], axis=1)\n",
    "    return df\n",
    "\n",
    "def process_all(meta_path, pairs, clade_cols):\n",
    "    \"\"\"Process metadata and all pairs of files into a single data frame.\"\"\"\n",
    "\n",
    "    meta = meta = process_meta(meta_path, clade_cols)\n",
    "\n",
    "    dfs = []\n",
    "    for pre_path, post_path in pairs:\n",
    "        df = process_pair(pre_path, post_path)\n",
    "        dfs.append(df)\n",
    "    dfs = pd.concat(dfs)\n",
    "    data = pd.merge(dfs, meta)\n",
    "    return data\n",
    "\n",
    "\n",
    "base_dir = os.path.join('data', 'capstone2')\n",
    "meta_path = os.path.join(base_dir, 'Copy_Peptides Lib_HIV_Revised BK_20160905.txt')\n",
    "pre_files = sorted(glob.glob(os.path.join(base_dir, '*pre_*anon.txt')))\n",
    "post_files = sorted(glob.glob(os.path.join(base_dir, '*wk24_*anon.txt')))\n",
    "pairs = list(zip(pre_files, post_files))\n",
    "\n",
    "data = process_all(meta_path, pairs, clade_cols)\n",
    "data.head()\n",
    "\n",
    "wt = ['770', '771', '776']\n",
    "gla = ['778', '780', '783']\n",
    "\n",
    "data.ix[data.subject.isin(wt), 'group'] = 'wt'\n",
    "data.ix[data.subject.isin(gla), 'group'] = 'gla'\n",
    "\n",
    "nrows = len(clades)\n",
    "ncols = 2\n",
    "fig, axes = plt.subplots(nrows, ncols, figsize=(16, 3*nrows))\n",
    "\n",
    "low, high, step = 1, 162, 5\n",
    "for i, (clade, df_clade) in enumerate(data[data.protein == 'gp120'].groupby('clade')):\n",
    "    for j, (group, df_group) in enumerate(df_clade.groupby('group')):\n",
    "        ax = axes[i, j]\n",
    "        hm = df_group.groupby(['region', 'subject'])[['signal']].mean()\n",
    "        hm = hm.unstack().T.reset_index(level=0, drop=True)\n",
    "        hm.columns = hm.columns.astype('int')\n",
    "        sns.heatmap(hm, ax=ax, linewidth=0.01, cbar=j)\n",
    "        ax.set_title(clade)\n",
    "        ax.set_xlim(low, high)\n",
    "        ax.set_xticks(range(low, high+1, step))\n",
    "        ax.set_xticklabels(range(low, high+1, step))\n",
    "        ax.set_ylabel('Animal')\n",
    "plt.tight_layout()\n",
    "```"
   ]
  },
  {
   "cell_type": "markdown",
   "metadata": {},
   "source": [
    "### Paths to data and metadata files\n",
    "\n",
    "We use `os.path.join` to create paths to files that will work regardless of the operating system. In particular, Windows uses the forward slash while Unix and Macs use the backwards slash to separate parts of the path."
   ]
  },
  {
   "cell_type": "code",
   "execution_count": 2,
   "metadata": {
    "collapsed": false
   },
   "outputs": [],
   "source": [
    "base_dir = os.path.join('data', 'capstone2')\n",
    "meta_path = os.path.join(base_dir, 'Copy_Peptides Lib_HIV_Revised BK_20160905.txt')\n",
    "pre_files = sorted(glob.glob(os.path.join(base_dir, '*pre_*anon.txt')))\n",
    "post_files = sorted(glob.glob(os.path.join(base_dir, '*wk24_*anon.txt')))\n",
    "pairs = list(zip(pre_files, post_files))"
   ]
  },
  {
   "cell_type": "markdown",
   "metadata": {},
   "source": [
    "## Step-by-step"
   ]
  },
  {
   "cell_type": "markdown",
   "metadata": {},
   "source": [
    "### What are the paths to files that were created?"
   ]
  },
  {
   "cell_type": "code",
   "execution_count": 3,
   "metadata": {
    "collapsed": false
   },
   "outputs": [
    {
     "data": {
      "text/plain": [
       "'data/capstone2'"
      ]
     },
     "execution_count": 3,
     "metadata": {},
     "output_type": "execute_result"
    }
   ],
   "source": [
    "base_dir"
   ]
  },
  {
   "cell_type": "code",
   "execution_count": 4,
   "metadata": {
    "collapsed": false
   },
   "outputs": [
    {
     "data": {
      "text/plain": [
       "'data/capstone2/Copy_Peptides Lib_HIV_Revised BK_20160905.txt'"
      ]
     },
     "execution_count": 4,
     "metadata": {},
     "output_type": "execute_result"
    }
   ],
   "source": [
    "meta_path"
   ]
  },
  {
   "cell_type": "code",
   "execution_count": 5,
   "metadata": {
    "collapsed": false
   },
   "outputs": [
    {
     "data": {
      "text/plain": [
       "[('data/capstone2/770 pre_20130118_S1_460_anon.txt',\n",
       "  'data/capstone2/770 wk24_20130118_S2_460_anon.txt'),\n",
       " ('data/capstone2/771 pre_20130118_S3_460_anon.txt',\n",
       "  'data/capstone2/771 wk24_20130118_S4_460_anon.txt'),\n",
       " ('data/capstone2/776 pre_20130118_S5_460_anon.txt',\n",
       "  'data/capstone2/776 wk24_20130118_S6_460_anon.txt'),\n",
       " ('data/capstone2/778 pre_20130118_S7_460_anon.txt',\n",
       "  'data/capstone2/778 wk24_20130118_S8_460_anon.txt'),\n",
       " ('data/capstone2/780 pre_20130118_S9_460_anon.txt',\n",
       "  'data/capstone2/780 wk24_20130118_S10_460_anon.txt')]"
      ]
     },
     "execution_count": 5,
     "metadata": {},
     "output_type": "execute_result"
    }
   ],
   "source": [
    "pairs"
   ]
  },
  {
   "cell_type": "markdown",
   "metadata": {},
   "source": [
    "### Load the metadata file into a `pandas` data frame\n",
    "\n",
    "Looking at the original text file, we see that `-` indicates blank space and can be coded as missing. Also we note that there are blank rows in the text file that we must take care of. We take a peek at the text file using a standrad Python idioms."
   ]
  },
  {
   "cell_type": "code",
   "execution_count": 6,
   "metadata": {
    "collapsed": false
   },
   "outputs": [
    {
     "name": "stdout",
     "output_type": "stream",
     "text": [
      "OriNum\tNewNum\tPeptideSeq\tRegion\tSeqs\tN.ident\tBatch\t12\t11\t10\t9\t8\t1\t2\t3\t4\t5\t6\t7\t\t\n",
      "1\tE1\tMRVMGIQRNWQHLWR\t1\t1\t1\tOri\t-\t-\t-\t-\t-\t-\tM Con\t-\t-\t-\t-\t-\t-\t\n",
      "2\tE2\tMRVMGIQRNCQHLWR\t1\t2\t1\tOri\t-\t-\t-\t-\t-\t-\t-\tA Con\t-\t-\t-\t-\t-\t\n",
      "3\tE3\tMRVKGIRKNYQHLWR\t1\t3\t1\tOri\t-\t-\t-\t-\t-\t-\t-\t-\tB Con\t-\t-\t-\t-\t\n",
      "4\tE4\tMRVRGILRNWQQWWI\t1\t4\t1\tOri\t-\t-\t-\t-\t-\t-\t-\t-\t-\tC Con\t-\t-\t-\t\n",
      "5\tE5\tMRVRGIERNYQHLWR\t1\t5\t1\tOri\t-\t-\t-\t-\t-\t-\t-\t-\t-\t-\tD Con\t-\t-\tAE.A244\n",
      "6\tE6\tMRVKETQMNWPNLWK\t1\t6\t1\tOri\t-\t-\t-\t-\t-\t-\t-\t-\t-\t-\t-\tAE Con\t-\t\n",
      "7\tE7\tMRVMGIQKNYPLLWR\t1\t7\t1\tOri\t-\t-\t-\t-\t-\t-\t-\t-\t-\t-\t-\t-\tAG Con\t\n",
      "-\tE1426\tMRVRGIWKNWPQWLI\t1\t11\t1\tNew\t-\t-\tC.1086\t-\t-\t-\t-\t-\t-\t-\t-\t-\t-\t\n",
      "-\tE1427\tMRVMGTQKNCQQWWI\t1\t12\t1\tNew\t-\tC.TV1\t-\t-\t-\t-\t-\t-\t-\t-\t-\t-\t-\t\n",
      "-\tE1920\tMRVREILRNWQRWWT\t1\t13\t1\tNew\tC.ZM651\t-\t-\t-\t-\t-\t-\t-\t-\t-\t-\t-\t-\t\n",
      "\t\t\t\t\t\t\t\t\t\t\t\t\t\t\t\t\t\t\t\t\n",
      "8\tE8\tMGIQRNWQHLWRWGT\t2\t1\t1\tOri\t-\t-\t-\t-\t-\t-\tM Con\t-\t-\t-\t-\t-\t-\t\n",
      "9\tE9\tMGIQRNCQHLWRWGT\t2\t2\t1\tOri\t-\t-\t-\t-\t-\t-\t-\tA Con\t-\t-\t-\t-\t-\t\n",
      "10\tE10\tKGIRKNYQHLWRWGT\t2\t3\t1\tOri\t-\t-\t-\t-\t-\t-\t-\t-\tB Con\t-\t-\t-\t-\t\n",
      "11\tE11\tRGILRNWQQWWIWGI\t2\t4\t1\tOri\t-\t-\t-\t-\t-\t-\t-\t-\t-\tC Con\t-\t-\t-\t\n",
      "12\tE12\tRGIERNYQHLWRWGT\t2\t5\t1\tOri\t-\t-\t-\t-\t-\t-\t-\t-\t-\t-\tD Con\t-\t-\t\n"
     ]
    }
   ],
   "source": [
    "with open('data/capstone2/Copy_Peptides Lib_HIV_Revised BK_20160905.txt') as f:\n",
    "    for i, line in enumerate(f):\n",
    "        print(line, end='')\n",
    "        if i > 15:\n",
    "            break"
   ]
  },
  {
   "cell_type": "markdown",
   "metadata": {},
   "source": [
    "#### Use `pandas` to read in table"
   ]
  },
  {
   "cell_type": "code",
   "execution_count": 7,
   "metadata": {
    "collapsed": false
   },
   "outputs": [],
   "source": [
    "meta = pd.read_table(meta_path, na_values='-')"
   ]
  },
  {
   "cell_type": "markdown",
   "metadata": {},
   "source": [
    "#### We have some blank rows"
   ]
  },
  {
   "cell_type": "code",
   "execution_count": 8,
   "metadata": {
    "collapsed": false
   },
   "outputs": [
    {
     "data": {
      "text/html": [
       "<div>\n",
       "<table border=\"1\" class=\"dataframe\">\n",
       "  <thead>\n",
       "    <tr style=\"text-align: right;\">\n",
       "      <th></th>\n",
       "      <th>OriNum</th>\n",
       "      <th>NewNum</th>\n",
       "      <th>PeptideSeq</th>\n",
       "      <th>Region</th>\n",
       "      <th>Seqs</th>\n",
       "      <th>N.ident</th>\n",
       "      <th>Batch</th>\n",
       "      <th>12</th>\n",
       "    </tr>\n",
       "  </thead>\n",
       "  <tbody>\n",
       "    <tr>\n",
       "      <th>0</th>\n",
       "      <td>1.0</td>\n",
       "      <td>E1</td>\n",
       "      <td>MRVMGIQRNWQHLWR</td>\n",
       "      <td>1.0</td>\n",
       "      <td>1</td>\n",
       "      <td>1.0</td>\n",
       "      <td>Ori</td>\n",
       "      <td>NaN</td>\n",
       "    </tr>\n",
       "    <tr>\n",
       "      <th>1</th>\n",
       "      <td>2.0</td>\n",
       "      <td>E2</td>\n",
       "      <td>MRVMGIQRNCQHLWR</td>\n",
       "      <td>1.0</td>\n",
       "      <td>2</td>\n",
       "      <td>1.0</td>\n",
       "      <td>Ori</td>\n",
       "      <td>NaN</td>\n",
       "    </tr>\n",
       "    <tr>\n",
       "      <th>2</th>\n",
       "      <td>3.0</td>\n",
       "      <td>E3</td>\n",
       "      <td>MRVKGIRKNYQHLWR</td>\n",
       "      <td>1.0</td>\n",
       "      <td>3</td>\n",
       "      <td>1.0</td>\n",
       "      <td>Ori</td>\n",
       "      <td>NaN</td>\n",
       "    </tr>\n",
       "    <tr>\n",
       "      <th>3</th>\n",
       "      <td>4.0</td>\n",
       "      <td>E4</td>\n",
       "      <td>MRVRGILRNWQQWWI</td>\n",
       "      <td>1.0</td>\n",
       "      <td>4</td>\n",
       "      <td>1.0</td>\n",
       "      <td>Ori</td>\n",
       "      <td>NaN</td>\n",
       "    </tr>\n",
       "    <tr>\n",
       "      <th>4</th>\n",
       "      <td>5.0</td>\n",
       "      <td>E5</td>\n",
       "      <td>MRVRGIERNYQHLWR</td>\n",
       "      <td>1.0</td>\n",
       "      <td>5</td>\n",
       "      <td>1.0</td>\n",
       "      <td>Ori</td>\n",
       "      <td>NaN</td>\n",
       "    </tr>\n",
       "    <tr>\n",
       "      <th>5</th>\n",
       "      <td>6.0</td>\n",
       "      <td>E6</td>\n",
       "      <td>MRVKETQMNWPNLWK</td>\n",
       "      <td>1.0</td>\n",
       "      <td>6</td>\n",
       "      <td>1.0</td>\n",
       "      <td>Ori</td>\n",
       "      <td>NaN</td>\n",
       "    </tr>\n",
       "    <tr>\n",
       "      <th>6</th>\n",
       "      <td>7.0</td>\n",
       "      <td>E7</td>\n",
       "      <td>MRVMGIQKNYPLLWR</td>\n",
       "      <td>1.0</td>\n",
       "      <td>7</td>\n",
       "      <td>1.0</td>\n",
       "      <td>Ori</td>\n",
       "      <td>NaN</td>\n",
       "    </tr>\n",
       "    <tr>\n",
       "      <th>7</th>\n",
       "      <td>NaN</td>\n",
       "      <td>E1426</td>\n",
       "      <td>MRVRGIWKNWPQWLI</td>\n",
       "      <td>1.0</td>\n",
       "      <td>11</td>\n",
       "      <td>1.0</td>\n",
       "      <td>New</td>\n",
       "      <td>NaN</td>\n",
       "    </tr>\n",
       "    <tr>\n",
       "      <th>8</th>\n",
       "      <td>NaN</td>\n",
       "      <td>E1427</td>\n",
       "      <td>MRVMGTQKNCQQWWI</td>\n",
       "      <td>1.0</td>\n",
       "      <td>12</td>\n",
       "      <td>1.0</td>\n",
       "      <td>New</td>\n",
       "      <td>NaN</td>\n",
       "    </tr>\n",
       "    <tr>\n",
       "      <th>9</th>\n",
       "      <td>NaN</td>\n",
       "      <td>E1920</td>\n",
       "      <td>MRVREILRNWQRWWT</td>\n",
       "      <td>1.0</td>\n",
       "      <td>13</td>\n",
       "      <td>1.0</td>\n",
       "      <td>New</td>\n",
       "      <td>C.ZM651</td>\n",
       "    </tr>\n",
       "    <tr>\n",
       "      <th>10</th>\n",
       "      <td>NaN</td>\n",
       "      <td>NaN</td>\n",
       "      <td>NaN</td>\n",
       "      <td>NaN</td>\n",
       "      <td>NaN</td>\n",
       "      <td>NaN</td>\n",
       "      <td>NaN</td>\n",
       "      <td>NaN</td>\n",
       "    </tr>\n",
       "    <tr>\n",
       "      <th>11</th>\n",
       "      <td>8.0</td>\n",
       "      <td>E8</td>\n",
       "      <td>MGIQRNWQHLWRWGT</td>\n",
       "      <td>2.0</td>\n",
       "      <td>1</td>\n",
       "      <td>1.0</td>\n",
       "      <td>Ori</td>\n",
       "      <td>NaN</td>\n",
       "    </tr>\n",
       "  </tbody>\n",
       "</table>\n",
       "</div>"
      ],
      "text/plain": [
       "    OriNum NewNum       PeptideSeq  Region Seqs  N.ident Batch       12\n",
       "0      1.0     E1  MRVMGIQRNWQHLWR     1.0    1      1.0   Ori      NaN\n",
       "1      2.0     E2  MRVMGIQRNCQHLWR     1.0    2      1.0   Ori      NaN\n",
       "2      3.0     E3  MRVKGIRKNYQHLWR     1.0    3      1.0   Ori      NaN\n",
       "3      4.0     E4  MRVRGILRNWQQWWI     1.0    4      1.0   Ori      NaN\n",
       "4      5.0     E5  MRVRGIERNYQHLWR     1.0    5      1.0   Ori      NaN\n",
       "5      6.0     E6  MRVKETQMNWPNLWK     1.0    6      1.0   Ori      NaN\n",
       "6      7.0     E7  MRVMGIQKNYPLLWR     1.0    7      1.0   Ori      NaN\n",
       "7      NaN  E1426  MRVRGIWKNWPQWLI     1.0   11      1.0   New      NaN\n",
       "8      NaN  E1427  MRVMGTQKNCQQWWI     1.0   12      1.0   New      NaN\n",
       "9      NaN  E1920  MRVREILRNWQRWWT     1.0   13      1.0   New  C.ZM651\n",
       "10     NaN    NaN              NaN     NaN  NaN      NaN   NaN      NaN\n",
       "11     8.0     E8  MGIQRNWQHLWRWGT     2.0    1      1.0   Ori      NaN"
      ]
     },
     "execution_count": 8,
     "metadata": {},
     "output_type": "execute_result"
    }
   ],
   "source": [
    "meta.ix[:11, :8]"
   ]
  },
  {
   "cell_type": "markdown",
   "metadata": {},
   "source": [
    "#### Now get rid of blank rows"
   ]
  },
  {
   "cell_type": "code",
   "execution_count": 9,
   "metadata": {
    "collapsed": false
   },
   "outputs": [],
   "source": [
    "meta = meta.dropna(axis=0, how='all')"
   ]
  },
  {
   "cell_type": "markdown",
   "metadata": {},
   "source": [
    "#### Check that blank rows have been removed"
   ]
  },
  {
   "cell_type": "code",
   "execution_count": 10,
   "metadata": {
    "collapsed": false
   },
   "outputs": [
    {
     "data": {
      "text/html": [
       "<div>\n",
       "<table border=\"1\" class=\"dataframe\">\n",
       "  <thead>\n",
       "    <tr style=\"text-align: right;\">\n",
       "      <th></th>\n",
       "      <th>OriNum</th>\n",
       "      <th>NewNum</th>\n",
       "      <th>PeptideSeq</th>\n",
       "      <th>Region</th>\n",
       "      <th>Seqs</th>\n",
       "      <th>N.ident</th>\n",
       "      <th>Batch</th>\n",
       "      <th>12</th>\n",
       "    </tr>\n",
       "  </thead>\n",
       "  <tbody>\n",
       "    <tr>\n",
       "      <th>0</th>\n",
       "      <td>1.0</td>\n",
       "      <td>E1</td>\n",
       "      <td>MRVMGIQRNWQHLWR</td>\n",
       "      <td>1.0</td>\n",
       "      <td>1</td>\n",
       "      <td>1.0</td>\n",
       "      <td>Ori</td>\n",
       "      <td>NaN</td>\n",
       "    </tr>\n",
       "    <tr>\n",
       "      <th>1</th>\n",
       "      <td>2.0</td>\n",
       "      <td>E2</td>\n",
       "      <td>MRVMGIQRNCQHLWR</td>\n",
       "      <td>1.0</td>\n",
       "      <td>2</td>\n",
       "      <td>1.0</td>\n",
       "      <td>Ori</td>\n",
       "      <td>NaN</td>\n",
       "    </tr>\n",
       "    <tr>\n",
       "      <th>2</th>\n",
       "      <td>3.0</td>\n",
       "      <td>E3</td>\n",
       "      <td>MRVKGIRKNYQHLWR</td>\n",
       "      <td>1.0</td>\n",
       "      <td>3</td>\n",
       "      <td>1.0</td>\n",
       "      <td>Ori</td>\n",
       "      <td>NaN</td>\n",
       "    </tr>\n",
       "    <tr>\n",
       "      <th>3</th>\n",
       "      <td>4.0</td>\n",
       "      <td>E4</td>\n",
       "      <td>MRVRGILRNWQQWWI</td>\n",
       "      <td>1.0</td>\n",
       "      <td>4</td>\n",
       "      <td>1.0</td>\n",
       "      <td>Ori</td>\n",
       "      <td>NaN</td>\n",
       "    </tr>\n",
       "    <tr>\n",
       "      <th>4</th>\n",
       "      <td>5.0</td>\n",
       "      <td>E5</td>\n",
       "      <td>MRVRGIERNYQHLWR</td>\n",
       "      <td>1.0</td>\n",
       "      <td>5</td>\n",
       "      <td>1.0</td>\n",
       "      <td>Ori</td>\n",
       "      <td>NaN</td>\n",
       "    </tr>\n",
       "    <tr>\n",
       "      <th>5</th>\n",
       "      <td>6.0</td>\n",
       "      <td>E6</td>\n",
       "      <td>MRVKETQMNWPNLWK</td>\n",
       "      <td>1.0</td>\n",
       "      <td>6</td>\n",
       "      <td>1.0</td>\n",
       "      <td>Ori</td>\n",
       "      <td>NaN</td>\n",
       "    </tr>\n",
       "    <tr>\n",
       "      <th>6</th>\n",
       "      <td>7.0</td>\n",
       "      <td>E7</td>\n",
       "      <td>MRVMGIQKNYPLLWR</td>\n",
       "      <td>1.0</td>\n",
       "      <td>7</td>\n",
       "      <td>1.0</td>\n",
       "      <td>Ori</td>\n",
       "      <td>NaN</td>\n",
       "    </tr>\n",
       "    <tr>\n",
       "      <th>7</th>\n",
       "      <td>NaN</td>\n",
       "      <td>E1426</td>\n",
       "      <td>MRVRGIWKNWPQWLI</td>\n",
       "      <td>1.0</td>\n",
       "      <td>11</td>\n",
       "      <td>1.0</td>\n",
       "      <td>New</td>\n",
       "      <td>NaN</td>\n",
       "    </tr>\n",
       "    <tr>\n",
       "      <th>8</th>\n",
       "      <td>NaN</td>\n",
       "      <td>E1427</td>\n",
       "      <td>MRVMGTQKNCQQWWI</td>\n",
       "      <td>1.0</td>\n",
       "      <td>12</td>\n",
       "      <td>1.0</td>\n",
       "      <td>New</td>\n",
       "      <td>NaN</td>\n",
       "    </tr>\n",
       "    <tr>\n",
       "      <th>9</th>\n",
       "      <td>NaN</td>\n",
       "      <td>E1920</td>\n",
       "      <td>MRVREILRNWQRWWT</td>\n",
       "      <td>1.0</td>\n",
       "      <td>13</td>\n",
       "      <td>1.0</td>\n",
       "      <td>New</td>\n",
       "      <td>C.ZM651</td>\n",
       "    </tr>\n",
       "    <tr>\n",
       "      <th>11</th>\n",
       "      <td>8.0</td>\n",
       "      <td>E8</td>\n",
       "      <td>MGIQRNWQHLWRWGT</td>\n",
       "      <td>2.0</td>\n",
       "      <td>1</td>\n",
       "      <td>1.0</td>\n",
       "      <td>Ori</td>\n",
       "      <td>NaN</td>\n",
       "    </tr>\n",
       "  </tbody>\n",
       "</table>\n",
       "</div>"
      ],
      "text/plain": [
       "    OriNum NewNum       PeptideSeq  Region Seqs  N.ident Batch       12\n",
       "0      1.0     E1  MRVMGIQRNWQHLWR     1.0    1      1.0   Ori      NaN\n",
       "1      2.0     E2  MRVMGIQRNCQHLWR     1.0    2      1.0   Ori      NaN\n",
       "2      3.0     E3  MRVKGIRKNYQHLWR     1.0    3      1.0   Ori      NaN\n",
       "3      4.0     E4  MRVRGILRNWQQWWI     1.0    4      1.0   Ori      NaN\n",
       "4      5.0     E5  MRVRGIERNYQHLWR     1.0    5      1.0   Ori      NaN\n",
       "5      6.0     E6  MRVKETQMNWPNLWK     1.0    6      1.0   Ori      NaN\n",
       "6      7.0     E7  MRVMGIQKNYPLLWR     1.0    7      1.0   Ori      NaN\n",
       "7      NaN  E1426  MRVRGIWKNWPQWLI     1.0   11      1.0   New      NaN\n",
       "8      NaN  E1427  MRVMGTQKNCQQWWI     1.0   12      1.0   New      NaN\n",
       "9      NaN  E1920  MRVREILRNWQRWWT     1.0   13      1.0   New  C.ZM651\n",
       "11     8.0     E8  MGIQRNWQHLWRWGT     2.0    1      1.0   Ori      NaN"
      ]
     },
     "execution_count": 10,
     "metadata": {},
     "output_type": "execute_result"
    }
   ],
   "source": [
    "meta.ix[:11, :8]"
   ]
  },
  {
   "cell_type": "markdown",
   "metadata": {},
   "source": [
    "### Extract clades from `meta`\n",
    "\n",
    "Each peptide sequence may match one or more HIV clades. The clade information is in the columns `'12', '11', '10', '9', '8', '1', '2', '3', '4', '5', '6', '7', 'Unnamed: 19', 'Unnamed: 20'`, and we will need to extract them from there."
   ]
  },
  {
   "cell_type": "code",
   "execution_count": 11,
   "metadata": {
    "collapsed": false
   },
   "outputs": [
    {
     "data": {
      "text/html": [
       "<div>\n",
       "<table border=\"1\" class=\"dataframe\">\n",
       "  <thead>\n",
       "    <tr style=\"text-align: right;\">\n",
       "      <th></th>\n",
       "      <th>12</th>\n",
       "      <th>11</th>\n",
       "      <th>10</th>\n",
       "      <th>9</th>\n",
       "      <th>8</th>\n",
       "      <th>1</th>\n",
       "      <th>2</th>\n",
       "      <th>3</th>\n",
       "      <th>4</th>\n",
       "      <th>5</th>\n",
       "      <th>6</th>\n",
       "      <th>7</th>\n",
       "      <th>Unnamed: 19</th>\n",
       "      <th>Unnamed: 20</th>\n",
       "    </tr>\n",
       "  </thead>\n",
       "  <tbody>\n",
       "    <tr>\n",
       "      <th>0</th>\n",
       "      <td>NaN</td>\n",
       "      <td>NaN</td>\n",
       "      <td>NaN</td>\n",
       "      <td>NaN</td>\n",
       "      <td>NaN</td>\n",
       "      <td>NaN</td>\n",
       "      <td>M Con</td>\n",
       "      <td>NaN</td>\n",
       "      <td>NaN</td>\n",
       "      <td>NaN</td>\n",
       "      <td>NaN</td>\n",
       "      <td>NaN</td>\n",
       "      <td>NaN</td>\n",
       "      <td>NaN</td>\n",
       "    </tr>\n",
       "    <tr>\n",
       "      <th>1</th>\n",
       "      <td>NaN</td>\n",
       "      <td>NaN</td>\n",
       "      <td>NaN</td>\n",
       "      <td>NaN</td>\n",
       "      <td>NaN</td>\n",
       "      <td>NaN</td>\n",
       "      <td>NaN</td>\n",
       "      <td>A Con</td>\n",
       "      <td>NaN</td>\n",
       "      <td>NaN</td>\n",
       "      <td>NaN</td>\n",
       "      <td>NaN</td>\n",
       "      <td>NaN</td>\n",
       "      <td>NaN</td>\n",
       "    </tr>\n",
       "    <tr>\n",
       "      <th>2</th>\n",
       "      <td>NaN</td>\n",
       "      <td>NaN</td>\n",
       "      <td>NaN</td>\n",
       "      <td>NaN</td>\n",
       "      <td>NaN</td>\n",
       "      <td>NaN</td>\n",
       "      <td>NaN</td>\n",
       "      <td>NaN</td>\n",
       "      <td>B Con</td>\n",
       "      <td>NaN</td>\n",
       "      <td>NaN</td>\n",
       "      <td>NaN</td>\n",
       "      <td>NaN</td>\n",
       "      <td>NaN</td>\n",
       "    </tr>\n",
       "    <tr>\n",
       "      <th>3</th>\n",
       "      <td>NaN</td>\n",
       "      <td>NaN</td>\n",
       "      <td>NaN</td>\n",
       "      <td>NaN</td>\n",
       "      <td>NaN</td>\n",
       "      <td>NaN</td>\n",
       "      <td>NaN</td>\n",
       "      <td>NaN</td>\n",
       "      <td>NaN</td>\n",
       "      <td>C Con</td>\n",
       "      <td>NaN</td>\n",
       "      <td>NaN</td>\n",
       "      <td>NaN</td>\n",
       "      <td>NaN</td>\n",
       "    </tr>\n",
       "    <tr>\n",
       "      <th>4</th>\n",
       "      <td>NaN</td>\n",
       "      <td>NaN</td>\n",
       "      <td>NaN</td>\n",
       "      <td>NaN</td>\n",
       "      <td>NaN</td>\n",
       "      <td>NaN</td>\n",
       "      <td>NaN</td>\n",
       "      <td>NaN</td>\n",
       "      <td>NaN</td>\n",
       "      <td>NaN</td>\n",
       "      <td>D Con</td>\n",
       "      <td>NaN</td>\n",
       "      <td>NaN</td>\n",
       "      <td>AE.A244</td>\n",
       "    </tr>\n",
       "  </tbody>\n",
       "</table>\n",
       "</div>"
      ],
      "text/plain": [
       "    12   11   10    9    8    1      2      3      4      5      6    7  \\\n",
       "0  NaN  NaN  NaN  NaN  NaN  NaN  M Con    NaN    NaN    NaN    NaN  NaN   \n",
       "1  NaN  NaN  NaN  NaN  NaN  NaN    NaN  A Con    NaN    NaN    NaN  NaN   \n",
       "2  NaN  NaN  NaN  NaN  NaN  NaN    NaN    NaN  B Con    NaN    NaN  NaN   \n",
       "3  NaN  NaN  NaN  NaN  NaN  NaN    NaN    NaN    NaN  C Con    NaN  NaN   \n",
       "4  NaN  NaN  NaN  NaN  NaN  NaN    NaN    NaN    NaN    NaN  D Con  NaN   \n",
       "\n",
       "  Unnamed: 19 Unnamed: 20  \n",
       "0         NaN         NaN  \n",
       "1         NaN         NaN  \n",
       "2         NaN         NaN  \n",
       "3         NaN         NaN  \n",
       "4         NaN     AE.A244  "
      ]
     },
     "execution_count": 11,
     "metadata": {},
     "output_type": "execute_result"
    }
   ],
   "source": [
    "clade_cols = ['12', '11', '10', '9', '8', '1', '2', '3', '4', '5', '6', '7', 'Unnamed: 19', 'Unnamed: 20']\n",
    "meta[clade_cols].head()"
   ]
  },
  {
   "cell_type": "markdown",
   "metadata": {},
   "source": [
    "#### First find all unique clades in the values within `clade_cols`"
   ]
  },
  {
   "cell_type": "code",
   "execution_count": 12,
   "metadata": {
    "collapsed": false
   },
   "outputs": [],
   "source": [
    "clades = sorted(set(meta[clade_cols].values.ravel()) - set([np.nan]))"
   ]
  },
  {
   "cell_type": "code",
   "execution_count": 13,
   "metadata": {
    "collapsed": false
   },
   "outputs": [
    {
     "data": {
      "text/plain": [
       "['A Con',\n",
       " 'AE Con',\n",
       " 'AE.A244',\n",
       " 'AE.TH023',\n",
       " 'AG Con',\n",
       " 'B Con',\n",
       " 'B.MN',\n",
       " 'C Con',\n",
       " 'C.1086',\n",
       " 'C.TV1',\n",
       " 'C.ZM651',\n",
       " 'D Con',\n",
       " 'M Con']"
      ]
     },
     "execution_count": 13,
     "metadata": {},
     "output_type": "execute_result"
    }
   ],
   "source": [
    "clades"
   ]
  },
  {
   "cell_type": "markdown",
   "metadata": {},
   "source": [
    "#### Create a new column for each clade where the value is True if the clade is present in that row and false otherwise"
   ]
  },
  {
   "cell_type": "code",
   "execution_count": 14,
   "metadata": {
    "collapsed": false
   },
   "outputs": [],
   "source": [
    "for clade in clades:\n",
    "    meta[clade] = (meta[clade_cols] == clade).any(axis=1)"
   ]
  },
  {
   "cell_type": "markdown",
   "metadata": {},
   "source": [
    "#### Drop all columns except `Region`, `PeptideSeq` and the columns for clades"
   ]
  },
  {
   "cell_type": "code",
   "execution_count": 15,
   "metadata": {
    "collapsed": false
   },
   "outputs": [
    {
     "data": {
      "text/html": [
       "<div>\n",
       "<table border=\"1\" class=\"dataframe\">\n",
       "  <thead>\n",
       "    <tr style=\"text-align: right;\">\n",
       "      <th></th>\n",
       "      <th>PeptideSeq</th>\n",
       "      <th>Region</th>\n",
       "      <th>A Con</th>\n",
       "      <th>AE Con</th>\n",
       "      <th>AE.A244</th>\n",
       "      <th>AE.TH023</th>\n",
       "      <th>AG Con</th>\n",
       "      <th>B Con</th>\n",
       "      <th>B.MN</th>\n",
       "      <th>C Con</th>\n",
       "      <th>C.1086</th>\n",
       "      <th>C.TV1</th>\n",
       "      <th>C.ZM651</th>\n",
       "      <th>D Con</th>\n",
       "      <th>M Con</th>\n",
       "    </tr>\n",
       "  </thead>\n",
       "  <tbody>\n",
       "    <tr>\n",
       "      <th>0</th>\n",
       "      <td>MRVMGIQRNWQHLWR</td>\n",
       "      <td>1.0</td>\n",
       "      <td>False</td>\n",
       "      <td>False</td>\n",
       "      <td>False</td>\n",
       "      <td>False</td>\n",
       "      <td>False</td>\n",
       "      <td>False</td>\n",
       "      <td>False</td>\n",
       "      <td>False</td>\n",
       "      <td>False</td>\n",
       "      <td>False</td>\n",
       "      <td>False</td>\n",
       "      <td>False</td>\n",
       "      <td>True</td>\n",
       "    </tr>\n",
       "    <tr>\n",
       "      <th>1</th>\n",
       "      <td>MRVMGIQRNCQHLWR</td>\n",
       "      <td>1.0</td>\n",
       "      <td>True</td>\n",
       "      <td>False</td>\n",
       "      <td>False</td>\n",
       "      <td>False</td>\n",
       "      <td>False</td>\n",
       "      <td>False</td>\n",
       "      <td>False</td>\n",
       "      <td>False</td>\n",
       "      <td>False</td>\n",
       "      <td>False</td>\n",
       "      <td>False</td>\n",
       "      <td>False</td>\n",
       "      <td>False</td>\n",
       "    </tr>\n",
       "    <tr>\n",
       "      <th>2</th>\n",
       "      <td>MRVKGIRKNYQHLWR</td>\n",
       "      <td>1.0</td>\n",
       "      <td>False</td>\n",
       "      <td>False</td>\n",
       "      <td>False</td>\n",
       "      <td>False</td>\n",
       "      <td>False</td>\n",
       "      <td>True</td>\n",
       "      <td>False</td>\n",
       "      <td>False</td>\n",
       "      <td>False</td>\n",
       "      <td>False</td>\n",
       "      <td>False</td>\n",
       "      <td>False</td>\n",
       "      <td>False</td>\n",
       "    </tr>\n",
       "    <tr>\n",
       "      <th>3</th>\n",
       "      <td>MRVRGILRNWQQWWI</td>\n",
       "      <td>1.0</td>\n",
       "      <td>False</td>\n",
       "      <td>False</td>\n",
       "      <td>False</td>\n",
       "      <td>False</td>\n",
       "      <td>False</td>\n",
       "      <td>False</td>\n",
       "      <td>False</td>\n",
       "      <td>True</td>\n",
       "      <td>False</td>\n",
       "      <td>False</td>\n",
       "      <td>False</td>\n",
       "      <td>False</td>\n",
       "      <td>False</td>\n",
       "    </tr>\n",
       "    <tr>\n",
       "      <th>4</th>\n",
       "      <td>MRVRGIERNYQHLWR</td>\n",
       "      <td>1.0</td>\n",
       "      <td>False</td>\n",
       "      <td>False</td>\n",
       "      <td>True</td>\n",
       "      <td>False</td>\n",
       "      <td>False</td>\n",
       "      <td>False</td>\n",
       "      <td>False</td>\n",
       "      <td>False</td>\n",
       "      <td>False</td>\n",
       "      <td>False</td>\n",
       "      <td>False</td>\n",
       "      <td>True</td>\n",
       "      <td>False</td>\n",
       "    </tr>\n",
       "  </tbody>\n",
       "</table>\n",
       "</div>"
      ],
      "text/plain": [
       "        PeptideSeq  Region  A Con AE Con AE.A244 AE.TH023 AG Con  B Con  \\\n",
       "0  MRVMGIQRNWQHLWR     1.0  False  False   False    False  False  False   \n",
       "1  MRVMGIQRNCQHLWR     1.0   True  False   False    False  False  False   \n",
       "2  MRVKGIRKNYQHLWR     1.0  False  False   False    False  False   True   \n",
       "3  MRVRGILRNWQQWWI     1.0  False  False   False    False  False  False   \n",
       "4  MRVRGIERNYQHLWR     1.0  False  False    True    False  False  False   \n",
       "\n",
       "    B.MN  C Con C.1086  C.TV1 C.ZM651  D Con  M Con  \n",
       "0  False  False  False  False   False  False   True  \n",
       "1  False  False  False  False   False  False  False  \n",
       "2  False  False  False  False   False  False  False  \n",
       "3  False   True  False  False   False  False  False  \n",
       "4  False  False  False  False   False   True  False  "
      ]
     },
     "execution_count": 15,
     "metadata": {},
     "output_type": "execute_result"
    }
   ],
   "source": [
    "meta = meta[['PeptideSeq', 'Region'] + clades]\n",
    "meta.head()"
   ]
  },
  {
   "cell_type": "markdown",
   "metadata": {},
   "source": [
    "#### Reshape `meta` so that it only contains 4 columns `PeptideSeq`, `Region` , `variable` and `value` \n",
    "\n",
    "Then drop all rows where the value of `variable` is `False`."
   ]
  },
  {
   "cell_type": "code",
   "execution_count": 16,
   "metadata": {
    "collapsed": false
   },
   "outputs": [
    {
     "data": {
      "text/html": [
       "<div>\n",
       "<table border=\"1\" class=\"dataframe\">\n",
       "  <thead>\n",
       "    <tr style=\"text-align: right;\">\n",
       "      <th></th>\n",
       "      <th>PeptideSeq</th>\n",
       "      <th>Region</th>\n",
       "      <th>variable</th>\n",
       "      <th>value</th>\n",
       "    </tr>\n",
       "  </thead>\n",
       "  <tbody>\n",
       "    <tr>\n",
       "      <th>0</th>\n",
       "      <td>MRVMGIQRNWQHLWR</td>\n",
       "      <td>1.0</td>\n",
       "      <td>A Con</td>\n",
       "      <td>False</td>\n",
       "    </tr>\n",
       "    <tr>\n",
       "      <th>1</th>\n",
       "      <td>MRVMGIQRNCQHLWR</td>\n",
       "      <td>1.0</td>\n",
       "      <td>A Con</td>\n",
       "      <td>True</td>\n",
       "    </tr>\n",
       "    <tr>\n",
       "      <th>2</th>\n",
       "      <td>MRVKGIRKNYQHLWR</td>\n",
       "      <td>1.0</td>\n",
       "      <td>A Con</td>\n",
       "      <td>False</td>\n",
       "    </tr>\n",
       "    <tr>\n",
       "      <th>3</th>\n",
       "      <td>MRVRGILRNWQQWWI</td>\n",
       "      <td>1.0</td>\n",
       "      <td>A Con</td>\n",
       "      <td>False</td>\n",
       "    </tr>\n",
       "    <tr>\n",
       "      <th>4</th>\n",
       "      <td>MRVRGIERNYQHLWR</td>\n",
       "      <td>1.0</td>\n",
       "      <td>A Con</td>\n",
       "      <td>False</td>\n",
       "    </tr>\n",
       "  </tbody>\n",
       "</table>\n",
       "</div>"
      ],
      "text/plain": [
       "        PeptideSeq  Region variable  value\n",
       "0  MRVMGIQRNWQHLWR     1.0    A Con  False\n",
       "1  MRVMGIQRNCQHLWR     1.0    A Con   True\n",
       "2  MRVKGIRKNYQHLWR     1.0    A Con  False\n",
       "3  MRVRGILRNWQQWWI     1.0    A Con  False\n",
       "4  MRVRGIERNYQHLWR     1.0    A Con  False"
      ]
     },
     "execution_count": 16,
     "metadata": {},
     "output_type": "execute_result"
    }
   ],
   "source": [
    "meta = pd.melt(meta, ['PeptideSeq', 'Region'])\n",
    "meta.head()"
   ]
  },
  {
   "cell_type": "code",
   "execution_count": 17,
   "metadata": {
    "collapsed": false
   },
   "outputs": [
    {
     "data": {
      "text/html": [
       "<div>\n",
       "<table border=\"1\" class=\"dataframe\">\n",
       "  <thead>\n",
       "    <tr style=\"text-align: right;\">\n",
       "      <th></th>\n",
       "      <th>PeptideSeq</th>\n",
       "      <th>Region</th>\n",
       "      <th>variable</th>\n",
       "    </tr>\n",
       "  </thead>\n",
       "  <tbody>\n",
       "    <tr>\n",
       "      <th>1</th>\n",
       "      <td>MRVMGIQRNCQHLWR</td>\n",
       "      <td>1.0</td>\n",
       "      <td>A Con</td>\n",
       "    </tr>\n",
       "    <tr>\n",
       "      <th>11</th>\n",
       "      <td>MGIQRNCQHLWRWGT</td>\n",
       "      <td>2.0</td>\n",
       "      <td>A Con</td>\n",
       "    </tr>\n",
       "    <tr>\n",
       "      <th>21</th>\n",
       "      <td>QRNCQHLWRWGTMIL</td>\n",
       "      <td>3.0</td>\n",
       "      <td>A Con</td>\n",
       "    </tr>\n",
       "    <tr>\n",
       "      <th>31</th>\n",
       "      <td>CQHLWRWGTMILGMI</td>\n",
       "      <td>4.0</td>\n",
       "      <td>A Con</td>\n",
       "    </tr>\n",
       "    <tr>\n",
       "      <th>40</th>\n",
       "      <td>LWRWGTMILGMIIIC</td>\n",
       "      <td>5.0</td>\n",
       "      <td>A Con</td>\n",
       "    </tr>\n",
       "  </tbody>\n",
       "</table>\n",
       "</div>"
      ],
      "text/plain": [
       "         PeptideSeq  Region variable\n",
       "1   MRVMGIQRNCQHLWR     1.0    A Con\n",
       "11  MGIQRNCQHLWRWGT     2.0    A Con\n",
       "21  QRNCQHLWRWGTMIL     3.0    A Con\n",
       "31  CQHLWRWGTMILGMI     4.0    A Con\n",
       "40  LWRWGTMILGMIIIC     5.0    A Con"
      ]
     },
     "execution_count": 17,
     "metadata": {},
     "output_type": "execute_result"
    }
   ],
   "source": [
    "meta = meta[meta.value == True].drop('value', axis=1)\n",
    "meta.head()"
   ]
  },
  {
   "cell_type": "markdown",
   "metadata": {},
   "source": [
    "#### Reanme the columns of meta as `seq`, `region`, `clade`"
   ]
  },
  {
   "cell_type": "code",
   "execution_count": 18,
   "metadata": {
    "collapsed": true
   },
   "outputs": [],
   "source": [
    "meta.columns = ['seq', 'region', 'clade']"
   ]
  },
  {
   "cell_type": "markdown",
   "metadata": {},
   "source": [
    "### Load a data file into a dataframe\n",
    "\n",
    "We'll just use one of the pre files as an example."
   ]
  },
  {
   "cell_type": "code",
   "execution_count": 19,
   "metadata": {
    "collapsed": false
   },
   "outputs": [
    {
     "data": {
      "text/plain": [
       "'data/capstone2/770 pre_20130118_S1_460_anon.txt'"
      ]
     },
     "execution_count": 19,
     "metadata": {},
     "output_type": "execute_result"
    }
   ],
   "source": [
    "path = pairs[0][0]\n",
    "path"
   ]
  },
  {
   "cell_type": "markdown",
   "metadata": {},
   "source": [
    "**Note**: The `! head` command may not work in Windows. In that case, you can use regular Python functions to print the first 15 lines as shown in the section `Load the metadata file into a pandas data frame`."
   ]
  },
  {
   "cell_type": "code",
   "execution_count": 20,
   "metadata": {
    "collapsed": false
   },
   "outputs": [
    {
     "name": "stdout",
     "output_type": "stream",
     "text": [
      "ATF\t1.0\r\n",
      "32\t58    \r\n",
      "\"Type=GenePix Export 3\"\r\n",
      "\"DateTime=2013/01/18 16:53:39\"\r\n",
      "\"Settings=\"\r\n",
      "\"GalFile=\"\r\n",
      "\"PixelSize=10\"\r\n",
      "\"Wavelengths=635\t532\"\r\n",
      "\"ImageFiles=\"\r\n",
      "\"NormalizationMethod=None\"\r\n",
      "\"NormalizationFactors=1\t1\"\r\n",
      "\"JpegImage=\"\r\n",
      "\"StdDev=Type 1\"\r\n",
      "\"RatioFormulations=W1/W2 (635/532)\"\r\n",
      "\"FeatureType=Circular\"\r\n"
     ]
    }
   ],
   "source": [
    "! head -n 15 \"$path\""
   ]
  },
  {
   "cell_type": "markdown",
   "metadata": {},
   "source": [
    "#### Hmm, the top part of the file does not actually contain the data we are looking for\n",
    "\n",
    "It turns out that the first 34 lines are information about the assay we don't need for this exercise. We use some Unix shell commands to show the lines 31-40."
   ]
  },
  {
   "cell_type": "code",
   "execution_count": 21,
   "metadata": {
    "collapsed": false
   },
   "outputs": [
    {
     "name": "stdout",
     "output_type": "stream",
     "text": [
      "\"ScanArea=1\"\r\n",
      "\"Supplier=Arrayjet Ltd\"\r\n",
      "\"ArrayerSoftwareName=Aj Marathon\"\r\n",
      "\"ArrayerSoftwareVersion=1.3.4\"\r\n",
      "\"Flags\"\t\"Normalize\"\t\"Autoflag\"\t\"Block\"\t\"Column\"\t\"Row\"\t\"Name\"\t\"ID\"\t\"X\"\t\"Y\"\t\"Dia.\"\t\"F635 Median\"\t\"F635 Mean\"\t\"F635 SD\"\t\"F635 CV\"\t\"B635\"\t\"B635 Median\"\t\"B635 Mean\"\t\"B635 SD\"\t\"B635 CV\"\t\"% > B635+1SD\"\t\"% > B635+2SD\"\t\"F635 % Sat.\"\t\"F532 Median\"\t\"F532 Mean\"\t\"F532 SD\"\t\"F532 CV\"\t\"B532\"\t\"B532 Median\"\t\"B532 Mean\"\t\"B532 SD\"\t\"B532 CV\"\t\"% > B532+1SD\"\t\"% > B532+2SD\"\t\"F532 % Sat.\"\t\"F635 Total Intensity\"\t\"F532 Total Intensity\"\t\"SNR 635\"\t\"SNR 532\"\t\"Ratio of Medians (635/532)\"\t\"Ratio of Means (635/532)\"\t\"Median of Ratios (635/532)\"\t\"Mean of Ratios (635/532)\"\t\"Ratios SD (635/532)\"\t\"Rgn Ratio (635/532)\"\t\"Rgn R2 (635/532)\"\t\"Log Ratio (635/532)\"\t\"F635 Median - B635\"\t\"F532 Median - B532\"\t\"F635 Mean - B635\"\t\"F532 Mean - B532\"\t\"Sum of Medians (635/532)\"\t\"Sum of Means (635/532)\"\t\"F Pixels\"\t\"B Pixels\"\t\"Circularity\"\t\"Index\"\t\"Annotation\"\r\n",
      "0\t0\t0\t1\t1\t1\t\"E73-73\"\t\"WVTVYYGVPVWKDAE\"\t2050\t5160\t100\t347\t359\t160\t44\t267\t267\t276\t84\t30\t49\t6\t0\t2844\t2962\t1104\t37\t605\t605\t681\t431\t63\t98\t93\t0\t28686\t236979\t0.988\t5.292\t0.036\t0.039\t0.040\t0.038\t2.916\t0.050\t0.241\t-4.807\t80\t2239\t92\t2357\t2319\t2449\t80\t560\t100\t1\t\"2729_1_2|798770|10010268_A09_1014|30006056_E09_0650\r\n",
      "\"\r\n",
      "0\t0\t0\t1\t2\t1\t\"E8-8\"\t\"MGIQRNWQHLWRWGT\"\t2350\t5170\t60\t602\t588\t75\t12\t292\t292\t292\t60\t20\t100\t97\t0\t1283\t1199\t448\t37\t551\t551\t627\t390\t62\t69\t44\t0\t18824\t38372\t4.933\t1.467\t0.423\t0.457\t0.394\t0.459\t2.407\t0.273\t0.331\t-1.240\t310\t732\t296\t648\t1042\t944\t32\t176\t100\t2\t\"2729_1_1|798676|10010267_A11_1103|30006056_A11_0861\r\n",
      "\"\r\n",
      "-50\t0\t0\t1\t3\t1\t\"E1932\"\t\"FCASDAKSYEKEVHN\"\t2640\t5180\t140\t142\t156\t64\t41\t327\t327\t332\t79\t23\t0\t0\t0\t641\t734\t518\t70\t615\t615\t1051\t3998\t380\t0\t0\t0\t24295\t114537\t-2.228\t-0.079\t-7.115\t-1.437\t0.618\t0.758\t2.609\t-0.001\t0.000\tError\t-185\t26\t-171\t119\t-159\t-52\t156\t1140\t100\t3\t\"2729_1_2|798820|10010268_E11_1219|30006056_G11_0959\r\n"
     ]
    }
   ],
   "source": [
    "! head -n 40 \"$path\" | tail -n 10"
   ]
  },
  {
   "cell_type": "markdown",
   "metadata": {},
   "source": [
    "#### Use `pandas` to read in the file, dropping the first 34 rows"
   ]
  },
  {
   "cell_type": "code",
   "execution_count": 22,
   "metadata": {
    "collapsed": true
   },
   "outputs": [],
   "source": [
    "pre = pd.read_table(path, skiprows=34)"
   ]
  },
  {
   "cell_type": "code",
   "execution_count": 23,
   "metadata": {
    "collapsed": false
   },
   "outputs": [
    {
     "data": {
      "text/html": [
       "<div>\n",
       "<table border=\"1\" class=\"dataframe\">\n",
       "  <thead>\n",
       "    <tr style=\"text-align: right;\">\n",
       "      <th></th>\n",
       "      <th>Flags</th>\n",
       "      <th>Normalize</th>\n",
       "      <th>Autoflag</th>\n",
       "      <th>Block</th>\n",
       "      <th>Column</th>\n",
       "      <th>Row</th>\n",
       "      <th>Name</th>\n",
       "      <th>ID</th>\n",
       "    </tr>\n",
       "  </thead>\n",
       "  <tbody>\n",
       "    <tr>\n",
       "      <th>0</th>\n",
       "      <td>0</td>\n",
       "      <td>0</td>\n",
       "      <td>0</td>\n",
       "      <td>1</td>\n",
       "      <td>1</td>\n",
       "      <td>1</td>\n",
       "      <td>E73-73</td>\n",
       "      <td>WVTVYYGVPVWKDAE</td>\n",
       "    </tr>\n",
       "    <tr>\n",
       "      <th>1</th>\n",
       "      <td>0</td>\n",
       "      <td>0</td>\n",
       "      <td>0</td>\n",
       "      <td>1</td>\n",
       "      <td>2</td>\n",
       "      <td>1</td>\n",
       "      <td>E8-8</td>\n",
       "      <td>MGIQRNWQHLWRWGT</td>\n",
       "    </tr>\n",
       "    <tr>\n",
       "      <th>2</th>\n",
       "      <td>-50</td>\n",
       "      <td>0</td>\n",
       "      <td>0</td>\n",
       "      <td>1</td>\n",
       "      <td>3</td>\n",
       "      <td>1</td>\n",
       "      <td>E1932</td>\n",
       "      <td>FCASDAKSYEKEVHN</td>\n",
       "    </tr>\n",
       "    <tr>\n",
       "      <th>3</th>\n",
       "      <td>0</td>\n",
       "      <td>0</td>\n",
       "      <td>0</td>\n",
       "      <td>1</td>\n",
       "      <td>4</td>\n",
       "      <td>1</td>\n",
       "      <td>E1435</td>\n",
       "      <td>WLIWSILGFWIGNME</td>\n",
       "    </tr>\n",
       "    <tr>\n",
       "      <th>4</th>\n",
       "      <td>0</td>\n",
       "      <td>0</td>\n",
       "      <td>0</td>\n",
       "      <td>1</td>\n",
       "      <td>5</td>\n",
       "      <td>1</td>\n",
       "      <td>E1449</td>\n",
       "      <td>EDLWVTVYYGVPVWR</td>\n",
       "    </tr>\n",
       "    <tr>\n",
       "      <th>5</th>\n",
       "      <td>0</td>\n",
       "      <td>0</td>\n",
       "      <td>0</td>\n",
       "      <td>1</td>\n",
       "      <td>6</td>\n",
       "      <td>1</td>\n",
       "      <td>E1427</td>\n",
       "      <td>MRVMGTQKNCQQWWI</td>\n",
       "    </tr>\n",
       "    <tr>\n",
       "      <th>6</th>\n",
       "      <td>-50</td>\n",
       "      <td>0</td>\n",
       "      <td>0</td>\n",
       "      <td>1</td>\n",
       "      <td>7</td>\n",
       "      <td>1</td>\n",
       "      <td>E1467</td>\n",
       "      <td>FCASDAKAQETEAHN</td>\n",
       "    </tr>\n",
       "    <tr>\n",
       "      <th>7</th>\n",
       "      <td>-50</td>\n",
       "      <td>0</td>\n",
       "      <td>0</td>\n",
       "      <td>1</td>\n",
       "      <td>8</td>\n",
       "      <td>1</td>\n",
       "      <td>E42-42</td>\n",
       "      <td>MILGMIIICSAAENL</td>\n",
       "    </tr>\n",
       "    <tr>\n",
       "      <th>8</th>\n",
       "      <td>0</td>\n",
       "      <td>0</td>\n",
       "      <td>0</td>\n",
       "      <td>1</td>\n",
       "      <td>9</td>\n",
       "      <td>1</td>\n",
       "      <td>E75-75</td>\n",
       "      <td>WVTVYYGVPVWRDAD</td>\n",
       "    </tr>\n",
       "    <tr>\n",
       "      <th>9</th>\n",
       "      <td>0</td>\n",
       "      <td>0</td>\n",
       "      <td>0</td>\n",
       "      <td>1</td>\n",
       "      <td>10</td>\n",
       "      <td>1</td>\n",
       "      <td>E7-7</td>\n",
       "      <td>MRVMGIQKNYPLLWR</td>\n",
       "    </tr>\n",
       "    <tr>\n",
       "      <th>10</th>\n",
       "      <td>0</td>\n",
       "      <td>0</td>\n",
       "      <td>0</td>\n",
       "      <td>1</td>\n",
       "      <td>11</td>\n",
       "      <td>1</td>\n",
       "      <td>E105-105</td>\n",
       "      <td>FCASDAKSYKTEAHN</td>\n",
       "    </tr>\n",
       "  </tbody>\n",
       "</table>\n",
       "</div>"
      ],
      "text/plain": [
       "    Flags  Normalize  Autoflag  Block  Column  Row      Name               ID\n",
       "0       0          0         0      1       1    1    E73-73  WVTVYYGVPVWKDAE\n",
       "1       0          0         0      1       2    1      E8-8  MGIQRNWQHLWRWGT\n",
       "2     -50          0         0      1       3    1     E1932  FCASDAKSYEKEVHN\n",
       "3       0          0         0      1       4    1     E1435  WLIWSILGFWIGNME\n",
       "4       0          0         0      1       5    1     E1449  EDLWVTVYYGVPVWR\n",
       "5       0          0         0      1       6    1     E1427  MRVMGTQKNCQQWWI\n",
       "6     -50          0         0      1       7    1     E1467  FCASDAKAQETEAHN\n",
       "7     -50          0         0      1       8    1    E42-42  MILGMIIICSAAENL\n",
       "8       0          0         0      1       9    1    E75-75  WVTVYYGVPVWRDAD\n",
       "9       0          0         0      1      10    1      E7-7  MRVMGIQKNYPLLWR\n",
       "10      0          0         0      1      11    1  E105-105  FCASDAKSYKTEAHN"
      ]
     },
     "execution_count": 23,
     "metadata": {},
     "output_type": "execute_result"
    }
   ],
   "source": [
    "pre.ix[:10, :8]"
   ]
  },
  {
   "cell_type": "markdown",
   "metadata": {},
   "source": [
    "#### Drop unused columns\n",
    "\n",
    "For this analysis, we are only interested in the columns named \"`ID`\", \"`Block`\" and \"`F635 Median - B635`\", and we can drop the rest of the many columns for simplicity. We never, ever touch the raw data files, so we can always get the other columns by re-reading them in if necessary."
   ]
  },
  {
   "cell_type": "code",
   "execution_count": 24,
   "metadata": {
    "collapsed": false
   },
   "outputs": [],
   "source": [
    "pre = pre[['ID', 'Block', 'F635 Median - B635']]"
   ]
  },
  {
   "cell_type": "code",
   "execution_count": 25,
   "metadata": {
    "collapsed": false
   },
   "outputs": [
    {
     "data": {
      "text/html": [
       "<div>\n",
       "<table border=\"1\" class=\"dataframe\">\n",
       "  <thead>\n",
       "    <tr style=\"text-align: right;\">\n",
       "      <th></th>\n",
       "      <th>ID</th>\n",
       "      <th>Block</th>\n",
       "      <th>F635 Median - B635</th>\n",
       "    </tr>\n",
       "  </thead>\n",
       "  <tbody>\n",
       "    <tr>\n",
       "      <th>0</th>\n",
       "      <td>WVTVYYGVPVWKDAE</td>\n",
       "      <td>1</td>\n",
       "      <td>80</td>\n",
       "    </tr>\n",
       "    <tr>\n",
       "      <th>1</th>\n",
       "      <td>MGIQRNWQHLWRWGT</td>\n",
       "      <td>1</td>\n",
       "      <td>310</td>\n",
       "    </tr>\n",
       "    <tr>\n",
       "      <th>2</th>\n",
       "      <td>FCASDAKSYEKEVHN</td>\n",
       "      <td>1</td>\n",
       "      <td>-185</td>\n",
       "    </tr>\n",
       "    <tr>\n",
       "      <th>3</th>\n",
       "      <td>WLIWSILGFWIGNME</td>\n",
       "      <td>1</td>\n",
       "      <td>158</td>\n",
       "    </tr>\n",
       "    <tr>\n",
       "      <th>4</th>\n",
       "      <td>EDLWVTVYYGVPVWR</td>\n",
       "      <td>1</td>\n",
       "      <td>568</td>\n",
       "    </tr>\n",
       "  </tbody>\n",
       "</table>\n",
       "</div>"
      ],
      "text/plain": [
       "                ID  Block  F635 Median - B635\n",
       "0  WVTVYYGVPVWKDAE      1                  80\n",
       "1  MGIQRNWQHLWRWGT      1                 310\n",
       "2  FCASDAKSYEKEVHN      1                -185\n",
       "3  WLIWSILGFWIGNME      1                 158\n",
       "4  EDLWVTVYYGVPVWR      1                 568"
      ]
     },
     "execution_count": 25,
     "metadata": {},
     "output_type": "execute_result"
    }
   ],
   "source": [
    "pre.head()"
   ]
  },
  {
   "cell_type": "markdown",
   "metadata": {},
   "source": [
    "#### Do the same thing for the file in `pairs[0][1]` and create a `post` data frame. All the data files have the exact same format, so you must drop the first 34 rows as before."
   ]
  },
  {
   "cell_type": "code",
   "execution_count": 26,
   "metadata": {
    "collapsed": true
   },
   "outputs": [],
   "source": [
    "path = pairs[0][1]\n",
    "post = pd.read_table(path, skiprows=34)\n",
    "post = post[['ID', 'Block', 'F635 Median - B635']]"
   ]
  },
  {
   "cell_type": "code",
   "execution_count": 27,
   "metadata": {
    "collapsed": false
   },
   "outputs": [
    {
     "data": {
      "text/html": [
       "<div>\n",
       "<table border=\"1\" class=\"dataframe\">\n",
       "  <thead>\n",
       "    <tr style=\"text-align: right;\">\n",
       "      <th></th>\n",
       "      <th>ID</th>\n",
       "      <th>Block</th>\n",
       "      <th>F635 Median - B635</th>\n",
       "    </tr>\n",
       "  </thead>\n",
       "  <tbody>\n",
       "    <tr>\n",
       "      <th>0</th>\n",
       "      <td>WVTVYYGVPVWKDAE</td>\n",
       "      <td>1</td>\n",
       "      <td>0</td>\n",
       "    </tr>\n",
       "    <tr>\n",
       "      <th>1</th>\n",
       "      <td>MGIQRNWQHLWRWGT</td>\n",
       "      <td>1</td>\n",
       "      <td>82</td>\n",
       "    </tr>\n",
       "    <tr>\n",
       "      <th>2</th>\n",
       "      <td>FCASDAKSYEKEVHN</td>\n",
       "      <td>1</td>\n",
       "      <td>-13</td>\n",
       "    </tr>\n",
       "    <tr>\n",
       "      <th>3</th>\n",
       "      <td>WLIWSILGFWIGNME</td>\n",
       "      <td>1</td>\n",
       "      <td>119</td>\n",
       "    </tr>\n",
       "    <tr>\n",
       "      <th>4</th>\n",
       "      <td>EDLWVTVYYGVPVWR</td>\n",
       "      <td>1</td>\n",
       "      <td>954</td>\n",
       "    </tr>\n",
       "  </tbody>\n",
       "</table>\n",
       "</div>"
      ],
      "text/plain": [
       "                ID  Block  F635 Median - B635\n",
       "0  WVTVYYGVPVWKDAE      1                   0\n",
       "1  MGIQRNWQHLWRWGT      1                  82\n",
       "2  FCASDAKSYEKEVHN      1                 -13\n",
       "3  WLIWSILGFWIGNME      1                 119\n",
       "4  EDLWVTVYYGVPVWR      1                 954"
      ]
     },
     "execution_count": 27,
     "metadata": {},
     "output_type": "execute_result"
    }
   ],
   "source": [
    "post.head()"
   ]
  },
  {
   "cell_type": "markdown",
   "metadata": {},
   "source": [
    "### Find the change in intensity before and after vaccination "
   ]
  },
  {
   "cell_type": "markdown",
   "metadata": {},
   "source": [
    "#### First change the column names for convenience\n",
    "\n",
    "- For `pre`, call the columns `seq`, `block`, `pre`\n",
    "- For `post` call the columns `seq`, `block`, `post`"
   ]
  },
  {
   "cell_type": "code",
   "execution_count": 28,
   "metadata": {
    "collapsed": true
   },
   "outputs": [],
   "source": [
    "pre.columns = ['seq', 'block', 'pre']\n",
    "post.columns = ['seq', 'block', 'post']"
   ]
  },
  {
   "cell_type": "markdown",
   "metadata": {},
   "source": [
    "#### Calculate summary statistics\n",
    "\n",
    "- from `pre`, create a new data frame `baseline` that contains seq and a column equal to the median value across blocks + 3 SD - if the resulting value is less than 200, use 200 instead\n",
    "- for `post` create a new data frame `vaccine` for the median value across blocks"
   ]
  },
  {
   "cell_type": "code",
   "execution_count": 29,
   "metadata": {
    "collapsed": true
   },
   "outputs": [],
   "source": [
    "def baseline(x):\n",
    "    return max(200, x.median() + 3*x.std(ddof=1))"
   ]
  },
  {
   "cell_type": "code",
   "execution_count": 30,
   "metadata": {
    "collapsed": false
   },
   "outputs": [
    {
     "data": {
      "text/html": [
       "<div>\n",
       "<table border=\"1\" class=\"dataframe\">\n",
       "  <thead>\n",
       "    <tr style=\"text-align: right;\">\n",
       "      <th></th>\n",
       "      <th>seq</th>\n",
       "      <th>pre</th>\n",
       "    </tr>\n",
       "  </thead>\n",
       "  <tbody>\n",
       "    <tr>\n",
       "      <th>0</th>\n",
       "      <td>AA</td>\n",
       "      <td>200.000000</td>\n",
       "    </tr>\n",
       "    <tr>\n",
       "      <th>1</th>\n",
       "      <td>AAARLGAVILFVVIV</td>\n",
       "      <td>200.000000</td>\n",
       "    </tr>\n",
       "    <tr>\n",
       "      <th>2</th>\n",
       "      <td>AARAVELLGRSSLRG</td>\n",
       "      <td>335.874922</td>\n",
       "    </tr>\n",
       "    <tr>\n",
       "      <th>3</th>\n",
       "      <td>AARIVELLGRRGWEA</td>\n",
       "      <td>537.473794</td>\n",
       "    </tr>\n",
       "    <tr>\n",
       "      <th>4</th>\n",
       "      <td>AARTVELLGHSSLKG</td>\n",
       "      <td>200.000000</td>\n",
       "    </tr>\n",
       "  </tbody>\n",
       "</table>\n",
       "</div>"
      ],
      "text/plain": [
       "               seq         pre\n",
       "0               AA  200.000000\n",
       "1  AAARLGAVILFVVIV  200.000000\n",
       "2  AARAVELLGRSSLRG  335.874922\n",
       "3  AARIVELLGRRGWEA  537.473794\n",
       "4  AARTVELLGHSSLKG  200.000000"
      ]
     },
     "execution_count": 30,
     "metadata": {},
     "output_type": "execute_result"
    }
   ],
   "source": [
    "base = pre.groupby('seq').agg({'pre': baseline})\n",
    "base = base.reset_index()\n",
    "base.head()"
   ]
  },
  {
   "cell_type": "code",
   "execution_count": 31,
   "metadata": {
    "collapsed": false
   },
   "outputs": [
    {
     "data": {
      "text/html": [
       "<div>\n",
       "<table border=\"1\" class=\"dataframe\">\n",
       "  <thead>\n",
       "    <tr style=\"text-align: right;\">\n",
       "      <th></th>\n",
       "      <th>seq</th>\n",
       "      <th>post</th>\n",
       "    </tr>\n",
       "  </thead>\n",
       "  <tbody>\n",
       "    <tr>\n",
       "      <th>0</th>\n",
       "      <td>AA</td>\n",
       "      <td>-94</td>\n",
       "    </tr>\n",
       "    <tr>\n",
       "      <th>1</th>\n",
       "      <td>AAARLGAVILFVVIV</td>\n",
       "      <td>-54</td>\n",
       "    </tr>\n",
       "    <tr>\n",
       "      <th>2</th>\n",
       "      <td>AARAVELLGRSSLRG</td>\n",
       "      <td>492</td>\n",
       "    </tr>\n",
       "    <tr>\n",
       "      <th>3</th>\n",
       "      <td>AARIVELLGRRGWEA</td>\n",
       "      <td>636</td>\n",
       "    </tr>\n",
       "    <tr>\n",
       "      <th>4</th>\n",
       "      <td>AARTVELLGHSSLKG</td>\n",
       "      <td>357</td>\n",
       "    </tr>\n",
       "  </tbody>\n",
       "</table>\n",
       "</div>"
      ],
      "text/plain": [
       "               seq  post\n",
       "0               AA   -94\n",
       "1  AAARLGAVILFVVIV   -54\n",
       "2  AARAVELLGRSSLRG   492\n",
       "3  AARIVELLGRRGWEA   636\n",
       "4  AARTVELLGHSSLKG   357"
      ]
     },
     "execution_count": 31,
     "metadata": {},
     "output_type": "execute_result"
    }
   ],
   "source": [
    "vaccine = post.groupby('seq').agg({'post': np.median})\n",
    "vaccine = vaccine.reset_index()\n",
    "vaccine.head()"
   ]
  },
  {
   "cell_type": "markdown",
   "metadata": {},
   "source": [
    "#### Create a datta frame `df` by merging baseline and vaccine on `seq` "
   ]
  },
  {
   "cell_type": "code",
   "execution_count": 32,
   "metadata": {
    "collapsed": false
   },
   "outputs": [
    {
     "data": {
      "text/html": [
       "<div>\n",
       "<table border=\"1\" class=\"dataframe\">\n",
       "  <thead>\n",
       "    <tr style=\"text-align: right;\">\n",
       "      <th></th>\n",
       "      <th>seq</th>\n",
       "      <th>pre</th>\n",
       "      <th>post</th>\n",
       "    </tr>\n",
       "  </thead>\n",
       "  <tbody>\n",
       "    <tr>\n",
       "      <th>0</th>\n",
       "      <td>AA</td>\n",
       "      <td>200.000000</td>\n",
       "      <td>-94</td>\n",
       "    </tr>\n",
       "    <tr>\n",
       "      <th>1</th>\n",
       "      <td>AAARLGAVILFVVIV</td>\n",
       "      <td>200.000000</td>\n",
       "      <td>-54</td>\n",
       "    </tr>\n",
       "    <tr>\n",
       "      <th>2</th>\n",
       "      <td>AARAVELLGRSSLRG</td>\n",
       "      <td>335.874922</td>\n",
       "      <td>492</td>\n",
       "    </tr>\n",
       "    <tr>\n",
       "      <th>3</th>\n",
       "      <td>AARIVELLGRRGWEA</td>\n",
       "      <td>537.473794</td>\n",
       "      <td>636</td>\n",
       "    </tr>\n",
       "    <tr>\n",
       "      <th>4</th>\n",
       "      <td>AARTVELLGHSSLKG</td>\n",
       "      <td>200.000000</td>\n",
       "      <td>357</td>\n",
       "    </tr>\n",
       "  </tbody>\n",
       "</table>\n",
       "</div>"
      ],
      "text/plain": [
       "               seq         pre  post\n",
       "0               AA  200.000000   -94\n",
       "1  AAARLGAVILFVVIV  200.000000   -54\n",
       "2  AARAVELLGRSSLRG  335.874922   492\n",
       "3  AARIVELLGRRGWEA  537.473794   636\n",
       "4  AARTVELLGHSSLKG  200.000000   357"
      ]
     },
     "execution_count": 32,
     "metadata": {},
     "output_type": "execute_result"
    }
   ],
   "source": [
    "df = pd.merge(base, vaccine, on=['seq'])\n",
    "df.head()"
   ]
  },
  {
   "cell_type": "markdown",
   "metadata": {},
   "source": [
    "#### Create a new column `signal` in `df` by subtracting the `pre` column from the `post` column\n",
    "\n",
    "If the resulting value is less than 1, use 1 instead."
   ]
  },
  {
   "cell_type": "code",
   "execution_count": 33,
   "metadata": {
    "collapsed": false
   },
   "outputs": [
    {
     "data": {
      "text/html": [
       "<div>\n",
       "<table border=\"1\" class=\"dataframe\">\n",
       "  <thead>\n",
       "    <tr style=\"text-align: right;\">\n",
       "      <th></th>\n",
       "      <th>seq</th>\n",
       "      <th>pre</th>\n",
       "      <th>post</th>\n",
       "      <th>signal</th>\n",
       "    </tr>\n",
       "  </thead>\n",
       "  <tbody>\n",
       "    <tr>\n",
       "      <th>0</th>\n",
       "      <td>AA</td>\n",
       "      <td>200.000000</td>\n",
       "      <td>-94</td>\n",
       "      <td>1.000000</td>\n",
       "    </tr>\n",
       "    <tr>\n",
       "      <th>1</th>\n",
       "      <td>AAARLGAVILFVVIV</td>\n",
       "      <td>200.000000</td>\n",
       "      <td>-54</td>\n",
       "      <td>1.000000</td>\n",
       "    </tr>\n",
       "    <tr>\n",
       "      <th>2</th>\n",
       "      <td>AARAVELLGRSSLRG</td>\n",
       "      <td>335.874922</td>\n",
       "      <td>492</td>\n",
       "      <td>156.125078</td>\n",
       "    </tr>\n",
       "    <tr>\n",
       "      <th>3</th>\n",
       "      <td>AARIVELLGRRGWEA</td>\n",
       "      <td>537.473794</td>\n",
       "      <td>636</td>\n",
       "      <td>98.526206</td>\n",
       "    </tr>\n",
       "    <tr>\n",
       "      <th>4</th>\n",
       "      <td>AARTVELLGHSSLKG</td>\n",
       "      <td>200.000000</td>\n",
       "      <td>357</td>\n",
       "      <td>157.000000</td>\n",
       "    </tr>\n",
       "  </tbody>\n",
       "</table>\n",
       "</div>"
      ],
      "text/plain": [
       "               seq         pre  post      signal\n",
       "0               AA  200.000000   -94    1.000000\n",
       "1  AAARLGAVILFVVIV  200.000000   -54    1.000000\n",
       "2  AARAVELLGRSSLRG  335.874922   492  156.125078\n",
       "3  AARIVELLGRRGWEA  537.473794   636   98.526206\n",
       "4  AARTVELLGHSSLKG  200.000000   357  157.000000"
      ]
     },
     "execution_count": 33,
     "metadata": {},
     "output_type": "execute_result"
    }
   ],
   "source": [
    "df['signal'] = df['post'] - df['pre']\n",
    "df['signal'] = df['signal'].clip_lower(1)\n",
    "df.head()"
   ]
  },
  {
   "cell_type": "markdown",
   "metadata": {},
   "source": [
    "#### Drop the `pre` and `post` columns since we don't need them anymore"
   ]
  },
  {
   "cell_type": "code",
   "execution_count": 34,
   "metadata": {
    "collapsed": false
   },
   "outputs": [
    {
     "data": {
      "text/html": [
       "<div>\n",
       "<table border=\"1\" class=\"dataframe\">\n",
       "  <thead>\n",
       "    <tr style=\"text-align: right;\">\n",
       "      <th></th>\n",
       "      <th>seq</th>\n",
       "      <th>signal</th>\n",
       "    </tr>\n",
       "  </thead>\n",
       "  <tbody>\n",
       "    <tr>\n",
       "      <th>0</th>\n",
       "      <td>AA</td>\n",
       "      <td>1.000000</td>\n",
       "    </tr>\n",
       "    <tr>\n",
       "      <th>1</th>\n",
       "      <td>AAARLGAVILFVVIV</td>\n",
       "      <td>1.000000</td>\n",
       "    </tr>\n",
       "    <tr>\n",
       "      <th>2</th>\n",
       "      <td>AARAVELLGRSSLRG</td>\n",
       "      <td>156.125078</td>\n",
       "    </tr>\n",
       "    <tr>\n",
       "      <th>3</th>\n",
       "      <td>AARIVELLGRRGWEA</td>\n",
       "      <td>98.526206</td>\n",
       "    </tr>\n",
       "    <tr>\n",
       "      <th>4</th>\n",
       "      <td>AARTVELLGHSSLKG</td>\n",
       "      <td>157.000000</td>\n",
       "    </tr>\n",
       "  </tbody>\n",
       "</table>\n",
       "</div>"
      ],
      "text/plain": [
       "               seq      signal\n",
       "0               AA    1.000000\n",
       "1  AAARLGAVILFVVIV    1.000000\n",
       "2  AARAVELLGRSSLRG  156.125078\n",
       "3  AARIVELLGRRGWEA   98.526206\n",
       "4  AARTVELLGHSSLKG  157.000000"
      ]
     },
     "execution_count": 34,
     "metadata": {},
     "output_type": "execute_result"
    }
   ],
   "source": [
    "df = df.drop(['pre', 'post'], axis=1)\n",
    "df.head()"
   ]
  },
  {
   "cell_type": "markdown",
   "metadata": {},
   "source": [
    "### Merge with metadta"
   ]
  },
  {
   "cell_type": "markdown",
   "metadata": {},
   "source": [
    "#### Merge `df` and `meta` on `seq`  to create a new data frame called `data`"
   ]
  },
  {
   "cell_type": "code",
   "execution_count": 35,
   "metadata": {
    "collapsed": false
   },
   "outputs": [],
   "source": [
    "data = pd.merge(df, meta, on='seq')"
   ]
  },
  {
   "cell_type": "code",
   "execution_count": 36,
   "metadata": {
    "collapsed": false
   },
   "outputs": [
    {
     "data": {
      "text/html": [
       "<div>\n",
       "<table border=\"1\" class=\"dataframe\">\n",
       "  <thead>\n",
       "    <tr style=\"text-align: right;\">\n",
       "      <th></th>\n",
       "      <th>seq</th>\n",
       "      <th>signal</th>\n",
       "      <th>region</th>\n",
       "      <th>clade</th>\n",
       "    </tr>\n",
       "  </thead>\n",
       "  <tbody>\n",
       "    <tr>\n",
       "      <th>0</th>\n",
       "      <td>AARAVELLGRSSLRG</td>\n",
       "      <td>156.125078</td>\n",
       "      <td>254.0</td>\n",
       "      <td>C Con</td>\n",
       "    </tr>\n",
       "    <tr>\n",
       "      <th>1</th>\n",
       "      <td>AARIVELLGRRGWEA</td>\n",
       "      <td>98.526206</td>\n",
       "      <td>254.0</td>\n",
       "      <td>D Con</td>\n",
       "    </tr>\n",
       "    <tr>\n",
       "      <th>2</th>\n",
       "      <td>AARTVELLGHSSLKG</td>\n",
       "      <td>157.000000</td>\n",
       "      <td>254.0</td>\n",
       "      <td>A Con</td>\n",
       "    </tr>\n",
       "    <tr>\n",
       "      <th>3</th>\n",
       "      <td>AARTVELLGHSSLKG</td>\n",
       "      <td>157.000000</td>\n",
       "      <td>254.0</td>\n",
       "      <td>AE Con</td>\n",
       "    </tr>\n",
       "    <tr>\n",
       "      <th>4</th>\n",
       "      <td>AARTVELLGHSSLKG</td>\n",
       "      <td>157.000000</td>\n",
       "      <td>254.0</td>\n",
       "      <td>AG Con</td>\n",
       "    </tr>\n",
       "  </tbody>\n",
       "</table>\n",
       "</div>"
      ],
      "text/plain": [
       "               seq      signal  region   clade\n",
       "0  AARAVELLGRSSLRG  156.125078   254.0   C Con\n",
       "1  AARIVELLGRRGWEA   98.526206   254.0   D Con\n",
       "2  AARTVELLGHSSLKG  157.000000   254.0   A Con\n",
       "3  AARTVELLGHSSLKG  157.000000   254.0  AE Con\n",
       "4  AARTVELLGHSSLKG  157.000000   254.0  AG Con"
      ]
     },
     "execution_count": 36,
     "metadata": {},
     "output_type": "execute_result"
    }
   ],
   "source": [
    "data.head()"
   ]
  },
  {
   "cell_type": "markdown",
   "metadata": {},
   "source": [
    "### Now do this for all files in a loop"
   ]
  },
  {
   "cell_type": "markdown",
   "metadata": {},
   "source": [
    "#### Refactor code into functions to make the code more manageable"
   ]
  },
  {
   "cell_type": "code",
   "execution_count": 37,
   "metadata": {
    "collapsed": true
   },
   "outputs": [],
   "source": [
    "def process_meta(path, clade_cols):\n",
    "    \"\"\"Collect steps to transform metadata here.\"\"\"\n",
    "\n",
    "    meta = pd.read_table(meta_path, na_values='-')\n",
    "    clades = sorted(set(meta[clade_cols].values.ravel()) - set([np.nan]))\n",
    "    for clade in clades:\n",
    "        meta[clade] = (meta[clade_cols] == clade).any(axis=1)\n",
    "    meta = meta[['PeptideSeq', 'Region'] + clades]\n",
    "    meta = pd.melt(meta, ['PeptideSeq', 'Region'])\n",
    "    meta = meta[meta.value == True].drop('value', axis=1)\n",
    "    meta.columns = ['seq', 'region', 'clade']\n",
    "    return meta\n",
    "\n",
    "def process_baseline(path):\n",
    "    \"\"\"Steps to calculate baseline values.\"\"\"\n",
    "\n",
    "    pre = pd.read_table(path, skiprows=34)\n",
    "    pre = pre[['ID', 'Block', 'F635 Median - B635']]\n",
    "    pre.columns = ['seq', 'block', 'pre']\n",
    "    d = pre.groupby('seq').agg({'pre': baseline})\n",
    "    d = d.reset_index()\n",
    "    return d\n",
    "\n",
    "def process_vaccinated(path):\n",
    "    \"\"\"Steps to calculate vaccinated median values.\"\"\"\n",
    "\n",
    "    post = pd.read_table(path, skiprows=34)\n",
    "    post = post[['ID', 'Block', 'F635 Median - B635']]\n",
    "    post.columns = ['seq', 'block', 'post']\n",
    "    d = post.groupby('seq').agg({'post': np.median})\n",
    "    d = d.reset_index()\n",
    "    return d\n",
    "\n",
    "def process_pair(pre_path, post_path):\n",
    "    \"\"\"Process a pair of pre- and post-files.\"\"\"\n",
    "\n",
    "    s1 = os.path.split(pre_path)[-1][:3]\n",
    "    s2 = os.path.split(pre_path)[-1][:3]\n",
    "    assert(s1 == s2)\n",
    "\n",
    "    pre = process_baseline(pre_path)\n",
    "    post = process_vaccinated(post_path)\n",
    "    df = pd.merge(pre, post, on=['seq'])\n",
    "    df['signal'] = df['post'] - df['pre']\n",
    "    df['signal'] = df['signal'].clip_lower(1)\n",
    "    df['subject'] = s1\n",
    "    df = df.drop(['pre', 'post'], axis=1)\n",
    "    return df"
   ]
  },
  {
   "cell_type": "code",
   "execution_count": 38,
   "metadata": {
    "collapsed": false
   },
   "outputs": [],
   "source": [
    "def process_all(meta_path, pairs, clade_cols):\n",
    "    \"\"\"Process metadata and all pairs of files into a single data frame.\"\"\"\n",
    "\n",
    "    meta = meta = process_meta(meta_path, clade_cols)\n",
    "\n",
    "    dfs = []\n",
    "    for pre_path, post_path in pairs:\n",
    "        df = process_pair(pre_path, post_path)\n",
    "        dfs.append(df)\n",
    "    dfs = pd.concat(dfs)\n",
    "    data = pd.merge(dfs, meta)\n",
    "    return data"
   ]
  },
  {
   "cell_type": "code",
   "execution_count": 39,
   "metadata": {
    "collapsed": false
   },
   "outputs": [],
   "source": [
    "clade_cols = ['12', '11', '10', '9', '8', '1', '2', '3', '4', '5', '6', '7', 'Unnamed: 19', 'Unnamed: 20']\n",
    "base_dir = os.path.join('data', 'capstone2')\n",
    "meta_path = os.path.join(base_dir, 'Copy_Peptides Lib_HIV_Revised BK_20160905.txt')\n",
    "pre_files = sorted(glob.glob(os.path.join(base_dir, '*pre_*anon.txt')))\n",
    "post_files = sorted(glob.glob(os.path.join(base_dir, '*wk24_*anon.txt')))\n",
    "pairs = list(zip(pre_files, post_files))"
   ]
  },
  {
   "cell_type": "code",
   "execution_count": 40,
   "metadata": {
    "collapsed": false
   },
   "outputs": [
    {
     "data": {
      "text/html": [
       "<div>\n",
       "<table border=\"1\" class=\"dataframe\">\n",
       "  <thead>\n",
       "    <tr style=\"text-align: right;\">\n",
       "      <th></th>\n",
       "      <th>seq</th>\n",
       "      <th>signal</th>\n",
       "      <th>subject</th>\n",
       "      <th>region</th>\n",
       "      <th>clade</th>\n",
       "    </tr>\n",
       "  </thead>\n",
       "  <tbody>\n",
       "    <tr>\n",
       "      <th>0</th>\n",
       "      <td>AARAVELLGRSSLRG</td>\n",
       "      <td>156.125078</td>\n",
       "      <td>770</td>\n",
       "      <td>254.0</td>\n",
       "      <td>C Con</td>\n",
       "    </tr>\n",
       "    <tr>\n",
       "      <th>1</th>\n",
       "      <td>AARAVELLGRSSLRG</td>\n",
       "      <td>1.000000</td>\n",
       "      <td>771</td>\n",
       "      <td>254.0</td>\n",
       "      <td>C Con</td>\n",
       "    </tr>\n",
       "    <tr>\n",
       "      <th>2</th>\n",
       "      <td>AARAVELLGRSSLRG</td>\n",
       "      <td>1.000000</td>\n",
       "      <td>776</td>\n",
       "      <td>254.0</td>\n",
       "      <td>C Con</td>\n",
       "    </tr>\n",
       "    <tr>\n",
       "      <th>3</th>\n",
       "      <td>AARAVELLGRSSLRG</td>\n",
       "      <td>1.000000</td>\n",
       "      <td>778</td>\n",
       "      <td>254.0</td>\n",
       "      <td>C Con</td>\n",
       "    </tr>\n",
       "    <tr>\n",
       "      <th>4</th>\n",
       "      <td>AARAVELLGRSSLRG</td>\n",
       "      <td>1.000000</td>\n",
       "      <td>780</td>\n",
       "      <td>254.0</td>\n",
       "      <td>C Con</td>\n",
       "    </tr>\n",
       "  </tbody>\n",
       "</table>\n",
       "</div>"
      ],
      "text/plain": [
       "               seq      signal subject  region  clade\n",
       "0  AARAVELLGRSSLRG  156.125078     770   254.0  C Con\n",
       "1  AARAVELLGRSSLRG    1.000000     771   254.0  C Con\n",
       "2  AARAVELLGRSSLRG    1.000000     776   254.0  C Con\n",
       "3  AARAVELLGRSSLRG    1.000000     778   254.0  C Con\n",
       "4  AARAVELLGRSSLRG    1.000000     780   254.0  C Con"
      ]
     },
     "execution_count": 40,
     "metadata": {},
     "output_type": "execute_result"
    }
   ],
   "source": [
    "data = process_all(meta_path, pairs, clade_cols)\n",
    "data.head()"
   ]
  },
  {
   "cell_type": "markdown",
   "metadata": {},
   "source": [
    "### Assigned groups\n",
    "\n",
    "Group information GLA-Rb Study:\n",
    "\n",
    "- WT Group: 770, 771, 776\n",
    "- GLA Group: 778, 780, 783"
   ]
  },
  {
   "cell_type": "code",
   "execution_count": 41,
   "metadata": {
    "collapsed": true
   },
   "outputs": [],
   "source": [
    "wt = ['770', '771', '776']\n",
    "gla = ['778', '780', '783']"
   ]
  },
  {
   "cell_type": "code",
   "execution_count": 42,
   "metadata": {
    "collapsed": false
   },
   "outputs": [
    {
     "data": {
      "text/html": [
       "<div>\n",
       "<table border=\"1\" class=\"dataframe\">\n",
       "  <thead>\n",
       "    <tr style=\"text-align: right;\">\n",
       "      <th></th>\n",
       "      <th>seq</th>\n",
       "      <th>signal</th>\n",
       "      <th>subject</th>\n",
       "      <th>region</th>\n",
       "      <th>clade</th>\n",
       "      <th>group</th>\n",
       "    </tr>\n",
       "  </thead>\n",
       "  <tbody>\n",
       "    <tr>\n",
       "      <th>0</th>\n",
       "      <td>AARAVELLGRSSLRG</td>\n",
       "      <td>156.125078</td>\n",
       "      <td>770</td>\n",
       "      <td>254.0</td>\n",
       "      <td>C Con</td>\n",
       "      <td>wt</td>\n",
       "    </tr>\n",
       "    <tr>\n",
       "      <th>1</th>\n",
       "      <td>AARAVELLGRSSLRG</td>\n",
       "      <td>1.000000</td>\n",
       "      <td>771</td>\n",
       "      <td>254.0</td>\n",
       "      <td>C Con</td>\n",
       "      <td>wt</td>\n",
       "    </tr>\n",
       "    <tr>\n",
       "      <th>2</th>\n",
       "      <td>AARAVELLGRSSLRG</td>\n",
       "      <td>1.000000</td>\n",
       "      <td>776</td>\n",
       "      <td>254.0</td>\n",
       "      <td>C Con</td>\n",
       "      <td>wt</td>\n",
       "    </tr>\n",
       "    <tr>\n",
       "      <th>3</th>\n",
       "      <td>AARAVELLGRSSLRG</td>\n",
       "      <td>1.000000</td>\n",
       "      <td>778</td>\n",
       "      <td>254.0</td>\n",
       "      <td>C Con</td>\n",
       "      <td>gla</td>\n",
       "    </tr>\n",
       "    <tr>\n",
       "      <th>4</th>\n",
       "      <td>AARAVELLGRSSLRG</td>\n",
       "      <td>1.000000</td>\n",
       "      <td>780</td>\n",
       "      <td>254.0</td>\n",
       "      <td>C Con</td>\n",
       "      <td>gla</td>\n",
       "    </tr>\n",
       "  </tbody>\n",
       "</table>\n",
       "</div>"
      ],
      "text/plain": [
       "               seq      signal subject  region  clade group\n",
       "0  AARAVELLGRSSLRG  156.125078     770   254.0  C Con    wt\n",
       "1  AARAVELLGRSSLRG    1.000000     771   254.0  C Con    wt\n",
       "2  AARAVELLGRSSLRG    1.000000     776   254.0  C Con    wt\n",
       "3  AARAVELLGRSSLRG    1.000000     778   254.0  C Con   gla\n",
       "4  AARAVELLGRSSLRG    1.000000     780   254.0  C Con   gla"
      ]
     },
     "execution_count": 42,
     "metadata": {},
     "output_type": "execute_result"
    }
   ],
   "source": [
    "data.ix[data.subject.isin(wt), 'group'] = 'wt'\n",
    "data.ix[data.subject.isin(gla), 'group'] = 'gla'\n",
    "data.head()"
   ]
  },
  {
   "cell_type": "markdown",
   "metadata": {},
   "source": [
    "### Assigned envelope proteins\n",
    "\n",
    "If region <= 163, then protein = gp120, otherwise protein = gp144"
   ]
  },
  {
   "cell_type": "markdown",
   "metadata": {},
   "source": [
    "## Graphics"
   ]
  },
  {
   "cell_type": "code",
   "execution_count": 43,
   "metadata": {
    "collapsed": false
   },
   "outputs": [],
   "source": [
    "data.ix[data.region <= 163, 'protein'] = 'gp120'\n",
    "data.ix[data.region >163, 'protein'] = 'gp144'"
   ]
  },
  {
   "cell_type": "code",
   "execution_count": 44,
   "metadata": {
    "collapsed": false
   },
   "outputs": [
    {
     "data": {
      "text/html": [
       "<div>\n",
       "<table border=\"1\" class=\"dataframe\">\n",
       "  <thead>\n",
       "    <tr style=\"text-align: right;\">\n",
       "      <th></th>\n",
       "      <th>seq</th>\n",
       "      <th>signal</th>\n",
       "      <th>subject</th>\n",
       "      <th>region</th>\n",
       "      <th>clade</th>\n",
       "      <th>group</th>\n",
       "      <th>protein</th>\n",
       "    </tr>\n",
       "  </thead>\n",
       "  <tbody>\n",
       "    <tr>\n",
       "      <th>0</th>\n",
       "      <td>AARAVELLGRSSLRG</td>\n",
       "      <td>156.125078</td>\n",
       "      <td>770</td>\n",
       "      <td>254.0</td>\n",
       "      <td>C Con</td>\n",
       "      <td>wt</td>\n",
       "      <td>gp144</td>\n",
       "    </tr>\n",
       "    <tr>\n",
       "      <th>1</th>\n",
       "      <td>AARAVELLGRSSLRG</td>\n",
       "      <td>1.000000</td>\n",
       "      <td>771</td>\n",
       "      <td>254.0</td>\n",
       "      <td>C Con</td>\n",
       "      <td>wt</td>\n",
       "      <td>gp144</td>\n",
       "    </tr>\n",
       "    <tr>\n",
       "      <th>2</th>\n",
       "      <td>AARAVELLGRSSLRG</td>\n",
       "      <td>1.000000</td>\n",
       "      <td>776</td>\n",
       "      <td>254.0</td>\n",
       "      <td>C Con</td>\n",
       "      <td>wt</td>\n",
       "      <td>gp144</td>\n",
       "    </tr>\n",
       "    <tr>\n",
       "      <th>3</th>\n",
       "      <td>AARAVELLGRSSLRG</td>\n",
       "      <td>1.000000</td>\n",
       "      <td>778</td>\n",
       "      <td>254.0</td>\n",
       "      <td>C Con</td>\n",
       "      <td>gla</td>\n",
       "      <td>gp144</td>\n",
       "    </tr>\n",
       "    <tr>\n",
       "      <th>4</th>\n",
       "      <td>AARAVELLGRSSLRG</td>\n",
       "      <td>1.000000</td>\n",
       "      <td>780</td>\n",
       "      <td>254.0</td>\n",
       "      <td>C Con</td>\n",
       "      <td>gla</td>\n",
       "      <td>gp144</td>\n",
       "    </tr>\n",
       "  </tbody>\n",
       "</table>\n",
       "</div>"
      ],
      "text/plain": [
       "               seq      signal subject  region  clade group protein\n",
       "0  AARAVELLGRSSLRG  156.125078     770   254.0  C Con    wt   gp144\n",
       "1  AARAVELLGRSSLRG    1.000000     771   254.0  C Con    wt   gp144\n",
       "2  AARAVELLGRSSLRG    1.000000     776   254.0  C Con    wt   gp144\n",
       "3  AARAVELLGRSSLRG    1.000000     778   254.0  C Con   gla   gp144\n",
       "4  AARAVELLGRSSLRG    1.000000     780   254.0  C Con   gla   gp144"
      ]
     },
     "execution_count": 44,
     "metadata": {},
     "output_type": "execute_result"
    }
   ],
   "source": [
    "data.head()"
   ]
  },
  {
   "cell_type": "markdown",
   "metadata": {},
   "source": [
    "### Plotting signal against region"
   ]
  },
  {
   "cell_type": "code",
   "execution_count": 45,
   "metadata": {
    "collapsed": false
   },
   "outputs": [
    {
     "data": {
      "image/png": "[encoded data removed]",
      "text/plain": [
       "<matplotlib.figure.Figure at 0x11bf41748>"
      ]
     },
     "metadata": {},
     "output_type": "display_data"
    }
   ],
   "source": [
    "plt.scatter(data.region, data.signal)\n",
    "plt.margins(0.05)\n",
    "plt.xlabel('Region')\n",
    "plt.ylabel('Signal')\n",
    "pass"
   ]
  },
  {
   "cell_type": "markdown",
   "metadata": {},
   "source": [
    "### Conditioning plots on categorical variables\n",
    "\n",
    "Warning: This takes a while to complete."
   ]
  },
  {
   "cell_type": "code",
   "execution_count": 46,
   "metadata": {
    "collapsed": false
   },
   "outputs": [
    {
     "data": {
      "image/png": "[encoded data removed]",
      "text/plain": [
       "<matplotlib.figure.Figure at 0x11dad7ef0>"
      ]
     },
     "metadata": {},
     "output_type": "display_data"
    }
   ],
   "source": [
    "gp120 = data[data.protein == 'gp120']\n",
    "g = sns.FacetGrid(gp120, row='clade', col='group', aspect=2, margin_titles=True)\n",
    "g.map(plt.bar, 'region', 'signal')\n",
    "pass"
   ]
  },
  {
   "cell_type": "markdown",
   "metadata": {},
   "source": [
    "### Plotting heatmaps"
   ]
  },
  {
   "cell_type": "code",
   "execution_count": 47,
   "metadata": {
    "collapsed": false
   },
   "outputs": [
    {
     "data": {
      "text/html": [
       "<div>\n",
       "<table border=\"1\" class=\"dataframe\">\n",
       "  <thead>\n",
       "    <tr style=\"text-align: right;\">\n",
       "      <th></th>\n",
       "      <th></th>\n",
       "      <th>signal</th>\n",
       "    </tr>\n",
       "    <tr>\n",
       "      <th>region</th>\n",
       "      <th>subject</th>\n",
       "      <th></th>\n",
       "    </tr>\n",
       "  </thead>\n",
       "  <tbody>\n",
       "    <tr>\n",
       "      <th rowspan=\"5\" valign=\"top\">1.0</th>\n",
       "      <th>770</th>\n",
       "      <td>1.000000</td>\n",
       "    </tr>\n",
       "    <tr>\n",
       "      <th>771</th>\n",
       "      <td>144.941271</td>\n",
       "    </tr>\n",
       "    <tr>\n",
       "      <th>776</th>\n",
       "      <td>54.898099</td>\n",
       "    </tr>\n",
       "    <tr>\n",
       "      <th>778</th>\n",
       "      <td>70.446511</td>\n",
       "    </tr>\n",
       "    <tr>\n",
       "      <th>780</th>\n",
       "      <td>3.236776</td>\n",
       "    </tr>\n",
       "  </tbody>\n",
       "</table>\n",
       "</div>"
      ],
      "text/plain": [
       "                    signal\n",
       "region subject            \n",
       "1.0    770        1.000000\n",
       "       771      144.941271\n",
       "       776       54.898099\n",
       "       778       70.446511\n",
       "       780        3.236776"
      ]
     },
     "execution_count": 47,
     "metadata": {},
     "output_type": "execute_result"
    }
   ],
   "source": [
    "hm = data.groupby(['region', 'subject']).agg({'signal': np.mean})\n",
    "hm.head()"
   ]
  },
  {
   "cell_type": "code",
   "execution_count": 48,
   "metadata": {
    "collapsed": false
   },
   "outputs": [
    {
     "data": {
      "text/html": [
       "<div>\n",
       "<table border=\"1\" class=\"dataframe\">\n",
       "  <thead>\n",
       "    <tr style=\"text-align: right;\">\n",
       "      <th></th>\n",
       "      <th>region</th>\n",
       "      <th>1.0</th>\n",
       "      <th>2.0</th>\n",
       "      <th>3.0</th>\n",
       "      <th>4.0</th>\n",
       "      <th>5.0</th>\n",
       "      <th>6.0</th>\n",
       "    </tr>\n",
       "    <tr>\n",
       "      <th></th>\n",
       "      <th>subject</th>\n",
       "      <th></th>\n",
       "      <th></th>\n",
       "      <th></th>\n",
       "      <th></th>\n",
       "      <th></th>\n",
       "      <th></th>\n",
       "    </tr>\n",
       "  </thead>\n",
       "  <tbody>\n",
       "    <tr>\n",
       "      <th rowspan=\"4\" valign=\"top\">signal</th>\n",
       "      <th>770</th>\n",
       "      <td>1.000000</td>\n",
       "      <td>65.258850</td>\n",
       "      <td>2.400000</td>\n",
       "      <td>1.000000</td>\n",
       "      <td>22.888889</td>\n",
       "      <td>30.400000</td>\n",
       "    </tr>\n",
       "    <tr>\n",
       "      <th>771</th>\n",
       "      <td>144.941271</td>\n",
       "      <td>99.295281</td>\n",
       "      <td>30.186508</td>\n",
       "      <td>94.206611</td>\n",
       "      <td>43.111111</td>\n",
       "      <td>24.425327</td>\n",
       "    </tr>\n",
       "    <tr>\n",
       "      <th>776</th>\n",
       "      <td>54.898099</td>\n",
       "      <td>17.535661</td>\n",
       "      <td>1.000000</td>\n",
       "      <td>33.542959</td>\n",
       "      <td>38.111111</td>\n",
       "      <td>48.678128</td>\n",
       "    </tr>\n",
       "    <tr>\n",
       "      <th>778</th>\n",
       "      <td>70.446511</td>\n",
       "      <td>111.469690</td>\n",
       "      <td>37.500000</td>\n",
       "      <td>135.000000</td>\n",
       "      <td>166.111111</td>\n",
       "      <td>126.300000</td>\n",
       "    </tr>\n",
       "  </tbody>\n",
       "</table>\n",
       "</div>"
      ],
      "text/plain": [
       "region                 1.0         2.0        3.0         4.0         5.0  \\\n",
       "       subject                                                              \n",
       "signal 770        1.000000   65.258850   2.400000    1.000000   22.888889   \n",
       "       771      144.941271   99.295281  30.186508   94.206611   43.111111   \n",
       "       776       54.898099   17.535661   1.000000   33.542959   38.111111   \n",
       "       778       70.446511  111.469690  37.500000  135.000000  166.111111   \n",
       "\n",
       "region                 6.0  \n",
       "       subject              \n",
       "signal 770       30.400000  \n",
       "       771       24.425327  \n",
       "       776       48.678128  \n",
       "       778      126.300000  "
      ]
     },
     "execution_count": 48,
     "metadata": {},
     "output_type": "execute_result"
    }
   ],
   "source": [
    "hm = hm.unstack().T\n",
    "hm.ix[:4, :6]"
   ]
  },
  {
   "cell_type": "code",
   "execution_count": 49,
   "metadata": {
    "collapsed": false
   },
   "outputs": [
    {
     "data": {
      "text/html": [
       "<div>\n",
       "<table border=\"1\" class=\"dataframe\">\n",
       "  <thead>\n",
       "    <tr style=\"text-align: right;\">\n",
       "      <th>region</th>\n",
       "      <th>1.0</th>\n",
       "      <th>2.0</th>\n",
       "      <th>3.0</th>\n",
       "      <th>4.0</th>\n",
       "      <th>5.0</th>\n",
       "      <th>6.0</th>\n",
       "    </tr>\n",
       "    <tr>\n",
       "      <th>subject</th>\n",
       "      <th></th>\n",
       "      <th></th>\n",
       "      <th></th>\n",
       "      <th></th>\n",
       "      <th></th>\n",
       "      <th></th>\n",
       "    </tr>\n",
       "  </thead>\n",
       "  <tbody>\n",
       "    <tr>\n",
       "      <th>770</th>\n",
       "      <td>1.000000</td>\n",
       "      <td>65.258850</td>\n",
       "      <td>2.400000</td>\n",
       "      <td>1.000000</td>\n",
       "      <td>22.888889</td>\n",
       "      <td>30.400000</td>\n",
       "    </tr>\n",
       "    <tr>\n",
       "      <th>771</th>\n",
       "      <td>144.941271</td>\n",
       "      <td>99.295281</td>\n",
       "      <td>30.186508</td>\n",
       "      <td>94.206611</td>\n",
       "      <td>43.111111</td>\n",
       "      <td>24.425327</td>\n",
       "    </tr>\n",
       "    <tr>\n",
       "      <th>776</th>\n",
       "      <td>54.898099</td>\n",
       "      <td>17.535661</td>\n",
       "      <td>1.000000</td>\n",
       "      <td>33.542959</td>\n",
       "      <td>38.111111</td>\n",
       "      <td>48.678128</td>\n",
       "    </tr>\n",
       "    <tr>\n",
       "      <th>778</th>\n",
       "      <td>70.446511</td>\n",
       "      <td>111.469690</td>\n",
       "      <td>37.500000</td>\n",
       "      <td>135.000000</td>\n",
       "      <td>166.111111</td>\n",
       "      <td>126.300000</td>\n",
       "    </tr>\n",
       "  </tbody>\n",
       "</table>\n",
       "</div>"
      ],
      "text/plain": [
       "region          1.0         2.0        3.0         4.0         5.0         6.0\n",
       "subject                                                                       \n",
       "770        1.000000   65.258850   2.400000    1.000000   22.888889   30.400000\n",
       "771      144.941271   99.295281  30.186508   94.206611   43.111111   24.425327\n",
       "776       54.898099   17.535661   1.000000   33.542959   38.111111   48.678128\n",
       "778       70.446511  111.469690  37.500000  135.000000  166.111111  126.300000"
      ]
     },
     "execution_count": 49,
     "metadata": {},
     "output_type": "execute_result"
    }
   ],
   "source": [
    "hm = hm.reset_index(level=0, drop=True)\n",
    "hm.ix[:4, :6]"
   ]
  },
  {
   "cell_type": "code",
   "execution_count": 50,
   "metadata": {
    "collapsed": false
   },
   "outputs": [
    {
     "data": {
      "image/png": "[encoded data removed]",
      "text/plain": [
       "<matplotlib.figure.Figure at 0x11b19a2e8>"
      ]
     },
     "metadata": {},
     "output_type": "display_data"
    }
   ],
   "source": [
    "plt.figure(figsize=(16, 3))\n",
    "sns.heatmap(hm)\n",
    "xlim = [1, 163]\n",
    "plt.xlim(xlim)\n",
    "plt.xticks(range(xlim[0], xlim[1], 5), range(xlim[0], xlim[1], 5))\n",
    "pass"
   ]
  },
  {
   "cell_type": "markdown",
   "metadata": {},
   "source": [
    "### Conditioning heatmaps\n",
    "\n",
    "Warning: This takes a while to complete."
   ]
  },
  {
   "cell_type": "code",
   "execution_count": 51,
   "metadata": {
    "collapsed": false
   },
   "outputs": [
    {
     "data": {
      "image/png": "[encoded data removed]",
      "text/plain": [
       "<matplotlib.figure.Figure at 0x123c180f0>"
      ]
     },
     "metadata": {},
     "output_type": "display_data"
    }
   ],
   "source": [
    "nrows = len(clades)\n",
    "ncols = 2\n",
    "fig, axes = plt.subplots(nrows, ncols, figsize=(16, 3*nrows))\n",
    "\n",
    "low, high, step = 1, 162, 5\n",
    "for i, (clade, df_clade) in enumerate(data[data.protein == 'gp120'].groupby('clade')):\n",
    "    for j, (group, df_group) in enumerate(df_clade.groupby('group')):\n",
    "        ax = axes[i, j]\n",
    "        hm = df_group.groupby(['region', 'subject'])[['signal']].mean()\n",
    "        hm = hm.unstack().T.reset_index(level=0, drop=True)\n",
    "        hm.columns = hm.columns.astype('int')\n",
    "        sns.heatmap(hm, ax=ax, linewidth=0.01, cbar=j)\n",
    "        ax.set_title(clade)\n",
    "        ax.set_xlim(low, high)\n",
    "        ax.set_xticks(range(low, high+1, step))\n",
    "        ax.set_xticklabels(range(low, high+1, step))\n",
    "        ax.set_ylabel('Animal')\n",
    "plt.tight_layout()"
   ]
  }
 ],
 "metadata": {
  "kernelspec": {
   "display_name": "Python 3",
   "language": "python",
   "name": "python3"
  },
  "language_info": {
   "codemirror_mode": {
    "name": "ipython",
    "version": 3
   },
   "file_extension": ".py",
   "mimetype": "text/x-python",
   "name": "python",
   "nbconvert_exporter": "python",
   "pygments_lexer": "ipython3",
   "version": "3.5.2"
  }
 },
 "nbformat": 4,
 "nbformat_minor": 0
}
