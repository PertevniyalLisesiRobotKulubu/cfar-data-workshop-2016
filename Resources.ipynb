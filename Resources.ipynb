{
 "cells": [
  {
   "cell_type": "markdown",
   "metadata": {},
   "source": [
    "# Resources for further learning\n",
    "\n",
    "The [website for this workshop](http://people.duke.edu/~ccc14/cfar-data-2016/index.html) is awesome :-)\n",
    "\n",
    "General coverage of data science tools useful for biologists are covered very well in these two biologist-friendly books:\n",
    "\n",
    "- [Practical Programming for Biologists](https://www.amazon.com/Practical-Computing-Biologists-Steven-Haddock)\n",
    "- Computing Skills for Biologists – A Toolbox (to be published by Princeton Press - not available yet)\n",
    "\n",
    "The next section is for those of you who want to learn to program in Python. The first link provides a *learn by doing* book for coding in Python (a philosophy I recommend), while the second link provides a comprehensive guide to Python learning resources:\n",
    "\n",
    "- [Learn Python the Hard Way](https://learnpythonthehardway.org/book/)\n",
    "- [Links to Learning Resources at the The Hitchhiker’s Guide to Python](http://docs.python-guide.org/en/latest/intro/learning/)\n",
    "\n",
    "If you want to learn R and some statistics, my favorite book for beginners is:\n",
    "\n",
    "- [R in Action (2nd edition)](https://www.manning.com/books/r-in-action-second-edition)\n",
    "\n",
    "If you get stuck, you can ask programming questions at [StackOverflow](http://stackoverflow.com)\n",
    "\n",
    "Finally, links to the various Python packages that we use for data analysis and visualizaiotn in this workshop:\n",
    "\n",
    "- [Python](https://www.python.org)\n",
    "- [Jupyter](http://jupyter.org)\n",
    "- [Pandas](http://pandas.pydata.org)\n",
    "- [Matplotlib](http://matplotlib.org)\n",
    "- [Seaborn](https://stanford.edu/~mwaskom/software/seaborn/)\n",
    "\n"
   ]
  },
  {
   "cell_type": "code",
   "execution_count": null,
   "metadata": {
    "collapsed": true
   },
   "outputs": [],
   "source": []
  }
 ],
 "metadata": {
  "kernelspec": {
   "display_name": "Python 3",
   "language": "python",
   "name": "python3"
  },
  "language_info": {
   "codemirror_mode": {
    "name": "ipython",
    "version": 3
   },
   "file_extension": ".py",
   "mimetype": "text/x-python",
   "name": "python",
   "nbconvert_exporter": "python",
   "pygments_lexer": "ipython3",
   "version": "3.5.2"
  }
 },
 "nbformat": 4,
 "nbformat_minor": 1
}
