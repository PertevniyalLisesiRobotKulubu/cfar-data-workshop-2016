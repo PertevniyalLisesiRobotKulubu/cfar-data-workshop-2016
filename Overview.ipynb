{
 "cells": [
  {
   "cell_type": "markdown",
   "metadata": {},
   "source": [
    "# Workshop Overview\n",
    "\n",
    "## Learning objectives\n",
    "\n",
    "This two-day CFAR data workshop is designed to introduce biologists to elementary data science in the context of HIV/AIDS research. The participant we have in mind is someone who works in the laboratory or clinic, and who is struggling to keep up with the data being generated from their research. There may be tens, hundreds or thousands of text files or spreadsheets that need to be combined and analyzed, and you still need to occasionally eat, sleep and walk the dog.\n",
    "\n",
    "The workshop will introduce you to the use of Jupyter as a scientific notebook that can combine documentation, code and cool visualizations. The coding part will focus on the manipulation of tabular data, since that is the most common way of capturing scientific output. You will learn how to read in tabular data from text files or Excel spreadsheets, how to tidy them for analysis, how to slice and dice the data to answer your research questions, and how to create beautiful plots for exploratory analysis and reporting.\n",
    "\n",
    "Day 1 of the course will emphasize working with data, and day 2 will focus on visualization and the generation of statistical plots. Each day consists of four 75-minute sessions. The first three sessions will show how to perform common data science tasks with short code examples, and the last session will be a hands-on exercise meant to integrate everything learned so far. Since data science is not a spectator sport, there will also be coding exercises interleaved into the first three sessions.\n",
    "\n",
    "It takes more than two days to train a competent data scientist, and we do not expect you to be proficient by the end of the workshop. Instead, our goal is that you will have become comfortable with the idea of writing code for analysis and visualization, and appreciate its advantages over the exclusive use of Excel. You will have made the transition from total outsider to an apprentice data scientist, eager and able to continue learning on your own with the resources given at the end of this page, or other resources you find on your own. I expect that you will struggle and be frustrated with coding as you try to apply it to your own data sets. It will get easier over time if you keep practicing, and the rewards are great.\n",
    "\n",
    "## Workshop sessions\n",
    "\n",
    "**Day 1**\n",
    "\n",
    "- Session 1: Jupyter, Python and Data Science\n",
    "- Session 2: Tidying Data\n",
    "- Session 3: Manipulating Data\n",
    "- Session 4: Capstone - Summarizing Clinical and Demographic Data\n",
    "\n",
    "**Day 2**\n",
    "\n",
    "- Session 5: Visualizing Data\n",
    "- Session 6: A Gallery of Plots\n",
    "- Session 7: Customizing Plots and Layouts\n",
    "- Session 8: Capstone - Mapping the Antibody Response to HIV Epitopes\n",
    "\n",
    "## Resources for further learning\n",
    "\n",
    "The [website for this workshop](http://people.duke.edu/~ccc14/cfar-data-2016/index.html) is awesome :-)\n",
    "\n",
    "General coverage of data science tools useful for biologists are covered very well in these two biologist-friendly books:\n",
    "\n",
    "- [Practical Programming for Biologists](https://www.amazon.com/Practical-Computing-Biologists-Steven-Haddock)\n",
    "- Computing Skills for Biologists – A Toolbox (to be published by Princeton Press - not available yet)\n",
    "\n",
    "The next section is for those of you who want to learn to program in Python. The first link provides a *learn by doing* book for coding in Python (a philosophy I recommend), while the second link provides a comprehensive guide to Python learning resources:\n",
    "\n",
    "- [Learn Python the Hard Way](https://learnpythonthehardway.org/book/)\n",
    "- [Links to Learning Resources at the The Hitchhiker’s Guide to Python](http://docs.python-guide.org/en/latest/intro/learning/)\n",
    "\n",
    "If you want to learn R and some statistics, my favorite book for beginners is:\n",
    "\n",
    "- [R in Action (2nd edition)](https://www.manning.com/books/r-in-action-second-edition)\n",
    "\n",
    "If you get stuck, you can ask programming questions at [StackOverflow](http://stackoverflow.com)\n",
    "\n",
    "Finally, links to the various Python packages that we use for data analysis and visualizaiotn in this workshop:\n",
    "\n",
    "- [Python](https://www.python.org)\n",
    "- [Jupyter](http://jupyter.org)\n",
    "- [Pandas](http://pandas.pydata.org)\n",
    "- [Matplotlib](http://matplotlib.org)\n",
    "- [Seaborn](https://stanford.edu/~mwaskom/software/seaborn/)\n"
   ]
  },
  {
   "cell_type": "code",
   "execution_count": null,
   "metadata": {
    "collapsed": true
   },
   "outputs": [],
   "source": []
  }
 ],
 "metadata": {
  "kernelspec": {
   "display_name": "Python 3",
   "language": "python",
   "name": "python3"
  },
  "language_info": {
   "codemirror_mode": {
    "name": "ipython",
    "version": 3
   },
   "file_extension": ".py",
   "mimetype": "text/x-python",
   "name": "python",
   "nbconvert_exporter": "python",
   "pygments_lexer": "ipython3",
   "version": "3.5.2"
  }
 },
 "nbformat": 4,
 "nbformat_minor": 0
}
