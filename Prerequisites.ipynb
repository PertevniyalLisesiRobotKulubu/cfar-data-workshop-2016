{
 "cells": [
  {
   "cell_type": "markdown",
   "metadata": {},
   "source": [
    "# Setting up your computer for the workshop"
   ]
  },
  {
   "cell_type": "markdown",
   "metadata": {
    "collapsed": true
   },
   "source": [
    "## Glossary\n",
    "\n",
    "- **Anaconda** A Python distribution that bundles multiple libraries for easy installation\n",
    "- **Navigator** A Graphical User Interface for launching and managing Anaconda/Python programs\n",
    "- **Jupyter** A browser-based notebook for multi-language programming\n",
    "- **Python** A general-purpose programming language widely used for data analysis \n",
    "- **R** A statistical programming language widely used in data analysis \n",
    "- **Terminal** An application that lets you enter text commands to the Unix shell (available in Linux, Mac and Windows 10 Anniversary Update)\n",
    "- **Unix shell** A command line interpreter that accepts text commands to execute various programs\n",
    "- **git** A version control system used to archive and share (mainly) code."
   ]
  },
  {
   "cell_type": "markdown",
   "metadata": {},
   "source": [
    "## Essential installation instructions\n",
    "\n",
    "### Install Anaconda for Python 3.5\n",
    "\n",
    "Download and install Anaconda Python 3.5 from https://www.continuum.io/downloads\n",
    "\n",
    "This is the most important step - the other steps are less critical and we can help you with setup in the workshop. But we really want you to get Anaconda and Jupyter working before you come to the workshop. \n",
    "\n",
    "### Test your installation of Jupyter\n",
    "\n",
    "#### Start a Jupyter notebook (Option 1)\n",
    "\n",
    "Use [Anaconda Navigator](https://docs.continuum.io/anaconda/navigator) to launch a Jupyter notebook. Anaconda Navigator should be on your desktop and looks like this\n",
    "\n",
    "<img src=\"figs/Icon1024.png\" width=\"128\">\n",
    "\n",
    "#### Start a Jupyter notebook (Option 2)\n",
    "\n",
    "Open a terminal and type\n",
    "```\n",
    "jupyter notebook\n",
    "```\n",
    "\n",
    "You should see the following page in your browser\n",
    "\n",
    "![Jupyter](figs/jupyter.png)\n",
    "\n",
    "If so, your installation was successful and you can now close the browser tab. Stop the Jupyter server using Navigator or by entering Control-C Control-C (yes twice) in the terminal where you started the notebook.\n",
    "\n",
    "### Install a  Unix Shell\n",
    "\n",
    "- **Mac** (Already installed) \n",
    "- **Windows 10 Anniversary Edition** - See [instructions](http://www.groovypost.com/howto/install-and-start-bash-in-windows-10-anniversary-update/) to run the `bash` shell (This takes a while so it would be great if you did it before the course starts)\n",
    "- **Other versions of Windows** - Download and install [Git for Windows](https://git-for-windows.github.io)\n",
    "\n",
    "### Test your installation of Unix Shell\n",
    "\n",
    "- **MAc** Type Command-Spacebar and enter \"terminal\".\n",
    "- **Windows** Start `bash` or `Git Bash` in the usual way.\n",
    "\n",
    "You should see something like this\n",
    "\n",
    "![Unix shell](figs/bash.png)"
   ]
  },
  {
   "cell_type": "markdown",
   "metadata": {},
   "source": [
    "## Other installation instructions\n",
    "\n",
    "### Install `git`\n",
    "\n",
    "- **Mac** Download and install from this [link](https://git-scm.com/download/mac)\n",
    "- **Windows 10 Anniversary Edition** - Open `bash` and type `apt-get install git`\n",
    "- **Other versions of Windows** - Download and install [Git for Windows](https://git-for-windows.github.io)\n",
    "\n",
    "### Install R for Jupyter\n",
    "\n",
    "- If you don't have an existing version of R: Open a terminal and copy and paste the following line\n",
    "```bash\n",
    "conda install -y -c r r-irkernel r-recommended r-essentials rpy2\n",
    "```\n",
    "\n",
    "- If you have an existing R installation that you want to use: Start R and copy and paste the following two lines one at a time\n",
    "```R\n",
    "install.packages(c('rzmq','repr','IRkernel','IRdisplay'),\n",
    "                 repos = c('http://irkernel.github.io/', getOption('repos')))\n",
    "IRkernel::installspec()\n",
    "```\n",
    "Then, open a terminal and type\n",
    "```bash\n",
    "pip install rpy2\n",
    "```"
   ]
  },
  {
   "cell_type": "markdown",
   "metadata": {},
   "source": [
    "## Download Course Materials\n",
    "\n",
    "Clone the `git` repository from https://bitbucket.org/cliburn/unc-data-workshop-2016 into a folder called `workshop` in your home directory.\n",
    "\n",
    "### Alternative\n",
    "\n",
    "Download the [zip archive](https://bitbucket.org/cliburn/unc-data-workshop-2016/get/116e23e9b6b2.zip) and unzip to a folder in your home directory called `workshop`."
   ]
  },
  {
   "cell_type": "markdown",
   "metadata": {},
   "source": [
    "## Optional installations"
   ]
  },
  {
   "cell_type": "markdown",
   "metadata": {
    "collapsed": true
   },
   "source": [
    "### Integrated Development Environments (IDE)\n",
    "\n",
    "- [RStudio for R](https://www.rstudio.com)\n",
    "- [Rodeo for Python](https://www.yhat.com/products/rodeo)"
   ]
  },
  {
   "cell_type": "code",
   "execution_count": null,
   "metadata": {
    "collapsed": true
   },
   "outputs": [],
   "source": []
  }
 ],
 "metadata": {
  "kernelspec": {
   "display_name": "Python 3",
   "language": "python",
   "name": "python3"
  },
  "language_info": {
   "codemirror_mode": {
    "name": "ipython",
    "version": 3
   },
   "file_extension": ".py",
   "mimetype": "text/x-python",
   "name": "python",
   "nbconvert_exporter": "python",
   "pygments_lexer": "ipython3",
   "version": "3.5.2"
  }
 },
 "nbformat": 4,
 "nbformat_minor": 0
}
