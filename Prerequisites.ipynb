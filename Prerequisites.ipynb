{
 "cells": [
  {
   "cell_type": "markdown",
   "metadata": {},
   "source": [
    "# Setting up your computer for the workshop"
   ]
  },
  {
   "cell_type": "markdown",
   "metadata": {
    "collapsed": true
   },
   "source": [
    "## Glossary\n",
    "\n",
    "- **Anaconda** A Python distribution that bundles multiple libraries for easy installation\n",
    "- **Navigator** A Graphical User Interface for launching and managing Anaconda/Python programs\n",
    "- **Jupyter** A browser-based notebook for multi-language programming\n",
    "- **Python** A general-purpose programming language widely used for data analysis \n",
    "- **R** A statistical programming language widely used in data analysis \n",
    "- **Terminal** An application that lets you enter text commands to the Unix shell (available in Linux, Mac and Windows 10 Anniversary Update)\n",
    "- **Unix shell** A command line interpreter that accepts text commands to execute various programs\n",
    "- **git** A version control system used to archive and share (mainly) code."
   ]
  },
  {
   "cell_type": "markdown",
   "metadata": {},
   "source": [
    "## Other installation instructions\n",
    "\n",
    "### Install `git`\n",
    "\n",
    "- **Mac** Download and install from this [link](https://git-scm.com/download/mac)\n",
    "- **Windows** - Download and install [Git for Windows](https://git-for-windows.github.io)\n",
    "\n",
    "### Install R for Jupyter\n",
    "\n",
    "- If you don't have an existing version of R: Open a terminal and copy and paste the following line\n",
    "```bash\n",
    "conda install -y -c r r-irkernel r-recommended r-essentials rpy2\n",
    "```\n",
    "\n",
    "- If you have an existing R installation that you want to use: Start R and copy and paste the following two lines one at a time\n",
    "```R\n",
    "install.packages(c('rzmq','repr','IRkernel','IRdisplay'),\n",
    "                 repos = c('http://irkernel.github.io/', getOption('repos')))\n",
    "IRkernel::installspec()\n",
    "```\n",
    "Then, open a terminal and type\n",
    "```bash\n",
    "pip install rpy2\n",
    "```"
   ]
  },
  {
   "cell_type": "markdown",
   "metadata": {},
   "source": [
    "## Download Course Materials\n",
    "\n",
    "The code notebooks and data for this workshop can be cloned from the course [Github repository](https://github.com/cliburn/cfar-data-workshop-2016.git). Basically, you open a terminal and enter \n",
    "\n",
    "```bash\n",
    "git clone https://github.com/cliburn/cfar-data-workshop-2016.git\n",
    "```\n",
    "\n",
    "in your home directory.\n",
    "\n",
    "If you cannot get the above line of code to work, you can download the [zipped files](https://github.com/cliburn/cfar-data-workshop-2016/archive/master.zip). However, it is much better to clone the Github repository because it is easy to keep that up-to-date if we make late changes to the course materials."
   ]
  },
  {
   "cell_type": "markdown",
   "metadata": {},
   "source": [
    "## Optional installations"
   ]
  },
  {
   "cell_type": "markdown",
   "metadata": {
    "collapsed": true
   },
   "source": [
    "### Integrated Development Environments (IDE)\n",
    "\n",
    "- [RStudio for R](https://www.rstudio.com)\n",
    "- [Rodeo for Python](https://www.yhat.com/products/rodeo)"
   ]
  },
  {
   "cell_type": "code",
   "execution_count": null,
   "metadata": {
    "collapsed": true
   },
   "outputs": [],
   "source": []
  }
 ],
 "metadata": {
  "kernelspec": {
   "display_name": "Python 3",
   "language": "python",
   "name": "python3"
  },
  "language_info": {
   "codemirror_mode": {
    "name": "ipython",
    "version": 3
   },
   "file_extension": ".py",
   "mimetype": "text/x-python",
   "name": "python",
   "nbconvert_exporter": "python",
   "pygments_lexer": "ipython3",
   "version": "3.5.2"
  }
 },
 "nbformat": 4,
 "nbformat_minor": 0
}
