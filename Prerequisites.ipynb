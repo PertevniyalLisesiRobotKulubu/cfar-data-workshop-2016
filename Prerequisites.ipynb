{
 "cells": [
  {
   "cell_type": "markdown",
   "metadata": {},
   "source": [
    "# Setting up your computer for the workshop"
   ]
  },
  {
   "cell_type": "markdown",
   "metadata": {},
   "source": [
    "## Installation instructions\n",
    "\n",
    "### Install `Anaconda Python`\n",
    "\n",
    "- Download and install from this [link](https://www.continuum.io/downloads). Choose the Python 3.5 64-bit version. \n",
    "- [Please refer to the detailed instructions if you are not sure of any step](https://docs.continuum.io/anaconda/install)\n",
    "- Check your installation by launching [Anaconda Navigator](https://docs.continuum.io/anaconda/navigator) - if you see the screen below, you should be all set\n",
    "\n",
    "![Navigator](https://docs.continuum.io/_images/navigator-home-1-2.png)\n",
    "\n",
    "### Install `git`\n",
    "\n",
    "- **Mac** Download and install from this [link](https://git-scm.com/download/mac)\n",
    "    - More [detailed instructions](https://www.atlassian.com/git/tutorials/install-git/mac-os-x)\n",
    "- **Windows** - Download and install [Git for Windows](https://git-for-windows.github.io)\n",
    "    - More [detailed instructions](https://www.atlassian.com/git/tutorials/install-git/windows)"
   ]
  },
  {
   "cell_type": "markdown",
   "metadata": {},
   "source": [
    "## Download Course Materials\n",
    "\n",
    "The code notebooks and data for this workshop can be cloned from the course [Github repository](https://github.com/cliburn/cfar-data-workshop-2016.git). Basically, you open a terminal (or Git Bash) and enter \n",
    "\n",
    "```bash\n",
    "git clone https://github.com/cliburn/cfar-data-workshop-2016.git\n",
    "```\n",
    "\n",
    "in your home directory.\n",
    "\n",
    "If you cannot get the above line of code to work, you can download the [zipped files](https://github.com/cliburn/cfar-data-workshop-2016/archive/master.zip). However, it is much better to clone the Github repository because it is easy to keep that up-to-date if we make late changes to the course materials."
   ]
  },
  {
   "cell_type": "markdown",
   "metadata": {},
   "source": [
    "## Optional installation\n",
    "\n",
    "### Integrated Development Environments (IDE)\n",
    "\n",
    "For those of you familiar with `RStudio`, `Rodeo` is a clone for Python. You can safely ignore this if you have no idea what `RStudio` is.\n",
    "\n",
    "- [Rodeo for Python](https://www.yhat.com/products/rodeo)"
   ]
  },
  {
   "cell_type": "markdown",
   "metadata": {
    "collapsed": true
   },
   "source": [
    "## Glossary\n",
    "\n",
    "- **Anaconda** A Python distribution that bundles multiple libraries for easy installation\n",
    "- **Navigator** A Graphical User Interface for launching and managing Anaconda/Python programs\n",
    "- **Jupyter** A browser-based notebook for multi-language programming\n",
    "- **Python** A general-purpose programming language widely used for data analysis \n",
    "- **R** A statistical programming language widely used in data analysis \n",
    "- **Terminal** An application that lets you enter text commands to the Unix shell\n",
    "- **Unix shell** A command line interpreter that accepts text commands to execute various programs\n",
    "- **git** A version control system used to archive and share (mainly) code."
   ]
  },
  {
   "cell_type": "code",
   "execution_count": null,
   "metadata": {
    "collapsed": true
   },
   "outputs": [],
   "source": []
  }
 ],
 "metadata": {
  "kernelspec": {
   "display_name": "Python 3",
   "language": "python",
   "name": "python3"
  },
  "language_info": {
   "codemirror_mode": {
    "name": "ipython",
    "version": 3
   },
   "file_extension": ".py",
   "mimetype": "text/x-python",
   "name": "python",
   "nbconvert_exporter": "python",
   "pygments_lexer": "ipython3",
   "version": "3.5.2"
  }
 },
 "nbformat": 4,
 "nbformat_minor": 0
}
